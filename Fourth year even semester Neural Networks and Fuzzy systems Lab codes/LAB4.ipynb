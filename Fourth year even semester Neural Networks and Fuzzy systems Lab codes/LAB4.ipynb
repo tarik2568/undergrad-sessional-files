{
  "cells": [
    {
      "cell_type": "markdown",
      "source": [
        "## Importing Necessary Libraries"
      ],
      "metadata": {
        "id": "D5Ef_1DeuyRE"
      }
    },
    {
      "cell_type": "code",
      "execution_count": null,
      "metadata": {
        "id": "cDS08Te9uAX-"
      },
      "outputs": [],
      "source": [
        "import numpy as np\n",
        "import math\n",
        "import random\n",
        "import matplotlib.pyplot as plt\n",
        "from PIL import Image\n"
      ]
    },
    {
      "cell_type": "markdown",
      "source": [
        "## Preprocessing Data"
      ],
      "metadata": {
        "id": "jLi_TzG7u3xE"
      }
    },
    {
      "cell_type": "code",
      "execution_count": null,
      "metadata": {
        "colab": {
          "base_uri": "https://localhost:8080/"
        },
        "id": "TaE8cExtuAYA",
        "outputId": "5d164cdc-e856-4d40-95e3-2c4a090dcab0"
      },
      "outputs": [
        {
          "output_type": "stream",
          "name": "stdout",
          "text": [
            "Iris Data Loaded\n",
            "Sample pattern: [7.9 3.8 6.4 2. ]\n",
            "Class of the above pattern: Iris-virginica\n"
          ]
        }
      ],
      "source": [
        "patterns = []\n",
        "classes = []\n",
        "filename = 'Iris.txt'\n",
        "file = open(filename, 'r')\n",
        "for line in file.readlines():\n",
        "    row = line.strip().split(',')\n",
        "    patterns.append(row[0:4])\n",
        "    classes.append(row[4])\n",
        "print(\"Iris Data Loaded\")\n",
        "file.close\n",
        "patterns = np.asarray(patterns, dtype=np.float32)\n",
        "sample_no = np.random.randint(0, len(patterns))\n",
        "print(\"Sample pattern: \" + str(patterns[int(sample_no)]))\n",
        "print(\"Class of the above pattern: \" + str(classes[int(sample_no)]))\n"
      ]
    },
    {
      "cell_type": "markdown",
      "source": [
        "## A heuristic formula for calculating no. of map units"
      ],
      "metadata": {
        "id": "fVd_wosKu8c6"
      }
    },
    {
      "cell_type": "code",
      "execution_count": null,
      "metadata": {
        "colab": {
          "base_uri": "https://localhost:8080/"
        },
        "id": "HRCXZy8UuAYC",
        "outputId": "da3bb008-4b78-4dd0-f867-1d31efddb134"
      },
      "outputs": [
        {
          "output_type": "stream",
          "name": "stdout",
          "text": [
            "Heuristically computed appropriate no. of map units: 304\n"
          ]
        }
      ],
      "source": [
        "def mapunits(input_len, size='small'):\n",
        "    heuristic_map_units = 5*input_len**0.54321\n",
        "    if size == 'big':\n",
        "        heuristic_map_units = 4*(heuristic_map_units)\n",
        "    else:\n",
        "        heuristic_map_units = 0.25*(heuristic_map_units)\n",
        "    return heuristic_map_units\n",
        "map_units = mapunits(len(patterns), size='big')\n",
        "print(\"Heuristically computed appropriate no. of map units: \"+str(int(map_units)))"
      ]
    },
    {
      "cell_type": "markdown",
      "source": [
        "## Self Organizing Map Training"
      ],
      "metadata": {
        "id": "ekNPnlVXvDcw"
      }
    },
    {
      "cell_type": "code",
      "execution_count": null,
      "metadata": {
        "colab": {
          "base_uri": "https://localhost:8080/"
        },
        "id": "V_oprhgQuAYF",
        "outputId": "9385a06b-6ae7-48bc-96ce-281936fe7c14"
      },
      "outputs": [
        {
          "output_type": "stream",
          "name": "stdout",
          "text": [
            "Lower error found: 0.7206333972310246 at epoch: 0\n",
            "\tLearning rate: 0.1\n",
            "\tNeighbourhood radius: 5.5\n",
            "Lower error found: 0.47597187126049356 at epoch: 2\n",
            "\tLearning rate: 0.09996000000000001\n",
            "\tNeighbourhood radius: 5.497800439941339\n",
            "Lower error found: 0.4445028732794773 at epoch: 8\n",
            "\tLearning rate: 0.09984\n",
            "\tNeighbourhood radius: 5.491207036246835\n",
            "Lower error found: 0.4007563349052098 at epoch: 16\n",
            "\tLearning rate: 0.09968\n",
            "\tNeighbourhood radius: 5.482428129986681\n",
            "Lower error found: 0.37256306203802253 at epoch: 45\n",
            "\tLearning rate: 0.09910000000000001\n",
            "\tNeighbourhood radius: 5.45072208325086\n",
            "Lower error found: 0.35529759387329485 at epoch: 70\n",
            "\tLearning rate: 0.09860000000000001\n",
            "\tNeighbourhood radius: 5.423536493445741\n",
            "Lower error found: 0.2557270185959104 at epoch: 173\n",
            "\tLearning rate: 0.09654000000000001\n",
            "\tNeighbourhood radius: 5.31295454625542\n",
            "Lower error found: 0.228851700089959 at epoch: 346\n",
            "\tLearning rate: 0.09308\n",
            "\tNeighbourhood radius: 5.132270183741116\n",
            "Lower error found: 0.18857227775519103 at epoch: 487\n",
            "\tLearning rate: 0.09026\n",
            "\tNeighbourhood radius: 4.989561809790911\n",
            "Lower error found: 0.1516103281597288 at epoch: 741\n",
            "\tLearning rate: 0.08518\n",
            "\tNeighbourhood radius: 4.742422552815912\n",
            "Lower error found: 0.14551150230611448 at epoch: 853\n",
            "\tLearning rate: 0.08294000000000001\n",
            "\tNeighbourhood radius: 4.63737323244649\n",
            "Lower error found: 0.13373059490125383 at epoch: 1231\n",
            "\tLearning rate: 0.07538\n",
            "\tNeighbourhood radius: 4.299712208648418\n",
            "Lower error found: 0.12450498780500881 at epoch: 1415\n",
            "\tLearning rate: 0.07170000000000001\n",
            "\tNeighbourhood radius: 4.144358833228445\n",
            "Lower error found: 0.11874340369352837 at epoch: 1543\n",
            "\tLearning rate: 0.06914000000000001\n",
            "\tNeighbourhood radius: 4.039609755921122\n",
            "Lower error found: 0.11829509539974582 at epoch: 1661\n",
            "\tLearning rate: 0.06677999999999999\n",
            "\tNeighbourhood radius: 3.9453911185626422\n",
            "Lower error found: 0.08497441299909424 at epoch: 1670\n",
            "\tLearning rate: 0.06659999999999999\n",
            "\tNeighbourhood radius: 3.938295802249647\n",
            "Lower error found: 0.0762311494041892 at epoch: 1956\n",
            "\tLearning rate: 0.060880000000000004\n",
            "\tNeighbourhood radius: 3.7193469144413047\n",
            "Lower error found: 0.054423743690201705 at epoch: 2028\n",
            "\tLearning rate: 0.05944000000000001\n",
            "\tNeighbourhood radius: 3.6661720964207776\n",
            "Lower error found: 0.05242624284694844 at epoch: 2181\n",
            "\tLearning rate: 0.05638000000000001\n",
            "\tNeighbourhood radius: 3.5556862842695973\n",
            "Lower error found: 0.04110217873220088 at epoch: 2245\n",
            "\tLearning rate: 0.055099999999999996\n",
            "\tNeighbourhood radius: 3.5104635428157285\n",
            "Lower error found: 0.03211346653961789 at epoch: 3057\n",
            "\tLearning rate: 0.03886\n",
            "\tNeighbourhood radius: 2.984248905512829\n",
            "Lower error found: 0.03130208042730108 at epoch: 3175\n",
            "\tLearning rate: 0.0365\n",
            "\tNeighbourhood radius: 2.914645185746627\n",
            "Lower error found: 0.031058998377529783 at epoch: 3298\n",
            "\tLearning rate: 0.03404000000000001\n",
            "\tNeighbourhood radius: 2.84381964008514\n",
            "Lower error found: 0.0309132430317816 at epoch: 3370\n",
            "\tLearning rate: 0.0326\n",
            "\tNeighbourhood radius: 2.8031620743018615\n",
            "Lower error found: 0.02415932109656458 at epoch: 3373\n",
            "\tLearning rate: 0.032540000000000006\n",
            "\tNeighbourhood radius: 2.8014806815255557\n",
            "Lower error found: 0.021251751237956636 at epoch: 3451\n",
            "\tLearning rate: 0.030979999999999997\n",
            "\tNeighbourhood radius: 2.7581167013570225\n",
            "Lower error found: 0.018272790984954324 at epoch: 3645\n",
            "\tLearning rate: 0.027100000000000003\n",
            "\tNeighbourhood radius: 2.6531512706331926\n",
            "Lower error found: 0.017348767063598787 at epoch: 3731\n",
            "\tLearning rate: 0.025380000000000003\n",
            "\tNeighbourhood radius: 2.6079072824859892\n",
            "Lower error found: 0.017312619398438752 at epoch: 3892\n",
            "\tLearning rate: 0.022160000000000003\n",
            "\tNeighbourhood radius: 2.5252702639783857\n",
            "Lower error found: 0.014960753458488319 at epoch: 4181\n",
            "\tLearning rate: 0.016379999999999995\n",
            "\tNeighbourhood radius: 2.3834477937598875\n",
            "Lower error found: 0.014675752031456617 at epoch: 4305\n",
            "\tLearning rate: 0.013900000000000003\n",
            "\tNeighbourhood radius: 2.3250652246027954\n",
            "Lower error found: 0.01460553111256157 at epoch: 4306\n",
            "\tLearning rate: 0.013880000000000003\n",
            "\tNeighbourhood radius: 2.32460025805608\n",
            "Lower error found: 0.013913986150527753 at epoch: 4370\n",
            "\tLearning rate: 0.0126\n",
            "\tNeighbourhood radius: 2.2950349960928014\n",
            "Lower error found: 0.011750259362735804 at epoch: 4400\n",
            "\tLearning rate: 0.012\n",
            "\tNeighbourhood radius: 2.2813060142486976\n",
            "Lower error found: 0.011519289250068144 at epoch: 4403\n",
            "\tLearning rate: 0.011939999999999996\n",
            "\tNeighbourhood radius: 2.279937641193116\n",
            "Lower error found: 0.01129730447972381 at epoch: 4465\n",
            "\tLearning rate: 0.0107\n",
            "\tNeighbourhood radius: 2.2518409737912553\n",
            "Lower error found: 0.010672638339157728 at epoch: 4477\n",
            "\tLearning rate: 0.010460000000000004\n",
            "\tNeighbourhood radius: 2.2464430355710308\n",
            "Lower error found: 0.009366374360989586 at epoch: 4496\n",
            "\tLearning rate: 0.01008\n",
            "\tNeighbourhood radius: 2.23792275082961\n",
            "Lower error found: 0.00918333624125666 at epoch: 4510\n",
            "\tLearning rate: 0.009799999999999998\n",
            "\tNeighbourhood radius: 2.231665331602385\n",
            "Lower error found: 0.008259508167202917 at epoch: 4524\n",
            "\tLearning rate: 0.009519999999999995\n",
            "\tNeighbourhood radius: 2.2254254086427907\n",
            "Lower error found: 0.00677024540400183 at epoch: 4544\n",
            "\tLearning rate: 0.009119999999999994\n",
            "\tNeighbourhood radius: 2.2165414866973365\n",
            "Lower error found: 0.006763461255053588 at epoch: 4547\n",
            "\tLearning rate: 0.009060000000000002\n",
            "\tNeighbourhood radius: 2.2152119607030025\n",
            "Lower error found: 0.00574070851841658 at epoch: 4559\n",
            "\tLearning rate: 0.008819999999999995\n",
            "\tNeighbourhood radius: 2.2099018267069743\n",
            "Lower error found: 0.005405308626762204 at epoch: 4605\n",
            "\tLearning rate: 0.007899999999999996\n",
            "\tNeighbourhood radius: 2.1896639668010085\n",
            "Lower error found: 0.00522520958985975 at epoch: 4640\n",
            "\tLearning rate: 0.0071999999999999955\n",
            "\tNeighbourhood radius: 2.174389840843549\n",
            "Lower error found: 0.0049432620274309485 at epoch: 4684\n",
            "\tLearning rate: 0.0063200000000000036\n",
            "\tNeighbourhood radius: 2.155339156196831\n",
            "Lower error found: 0.0043201192482938185 at epoch: 4693\n",
            "\tLearning rate: 0.006140000000000001\n",
            "\tNeighbourhood radius: 2.151463035271062\n",
            "Lower error found: 0.00413792931127213 at epoch: 4706\n",
            "\tLearning rate: 0.005879999999999996\n",
            "\tNeighbourhood radius: 2.145876497026159\n",
            "Lower error found: 0.004071032101605564 at epoch: 4724\n",
            "\tLearning rate: 0.005520000000000003\n",
            "\tNeighbourhood radius: 2.1381652302452365\n",
            "Lower error found: 0.003750269940738262 at epoch: 4729\n",
            "\tLearning rate: 0.005420000000000003\n",
            "\tNeighbourhood radius: 2.136028133741335\n",
            "Lower error found: 0.003001624243030931 at epoch: 4776\n",
            "\tLearning rate: 0.004479999999999995\n",
            "\tNeighbourhood radius: 2.1160435440088876\n",
            "Lower error found: 0.0029098862143260994 at epoch: 4801\n",
            "\tLearning rate: 0.003979999999999995\n",
            "\tNeighbourhood radius: 2.105489732803953\n",
            "Lower error found: 0.0024729361531100323 at epoch: 4816\n",
            "\tLearning rate: 0.0036800000000000057\n",
            "\tNeighbourhood radius: 2.099182728841737\n",
            "Lower error found: 0.0023099657452002086 at epoch: 4852\n",
            "\tLearning rate: 0.002959999999999996\n",
            "\tNeighbourhood radius: 2.084122893659165\n",
            "Lower error found: 0.002081888799358644 at epoch: 4854\n",
            "\tLearning rate: 0.0029200000000000007\n",
            "\tNeighbourhood radius: 2.083289411209305\n",
            "Lower error found: 0.002004727934172478 at epoch: 4856\n",
            "\tLearning rate: 0.002880000000000005\n",
            "\tNeighbourhood radius: 2.0824562620857545\n",
            "Lower error found: 0.001971754132718369 at epoch: 4862\n",
            "\tLearning rate: 0.002759999999999996\n",
            "\tNeighbourhood radius: 2.0799588133401925\n",
            "Lower error found: 0.0015176752235964272 at epoch: 4911\n",
            "\tLearning rate: 0.0017800000000000038\n",
            "\tNeighbourhood radius: 2.0596747711160486\n",
            "Lower error found: 0.001422210171271659 at epoch: 4928\n",
            "\tLearning rate: 0.0014399999999999968\n",
            "\tNeighbourhood radius: 2.0526837683336487\n",
            "Lower error found: 0.0009855062869488305 at epoch: 4930\n",
            "\tLearning rate: 0.0014000000000000013\n",
            "\tNeighbourhood radius: 2.0518628590191237\n"
          ]
        }
      ],
      "source": [
        "def Eucli_dists(MAP,x):\n",
        "    x = x.reshape((1,1,-1))\n",
        "    Eucli_MAP = MAP - x\n",
        "    Eucli_MAP = Eucli_MAP**2\n",
        "    Eucli_MAP = np.sqrt(np.sum(Eucli_MAP,2))\n",
        "    return Eucli_MAP\n",
        "input_dimensions = 4\n",
        "map_width = 11\n",
        "map_height = 11\n",
        "MAP = np.random.uniform(size=(map_height,map_width,input_dimensions))\n",
        "prev_MAP = np.zeros((map_height,map_width,input_dimensions))\n",
        "radius0 = max(map_width,map_height)/2\n",
        "learning_rate0 = 0.1\n",
        "coordinate_map = np.zeros([map_height,map_width,2],dtype=np.int32)\n",
        "for i in range(0,map_height):\n",
        "    for j in range(0,map_width):\n",
        "        coordinate_map[i][j] = [i,j]\n",
        "epochs = 5000\n",
        "radius=radius0\n",
        "learning_rate = learning_rate0\n",
        "max_iterations = len(patterns)+1\n",
        "too_many_iterations = 10*max_iterations\n",
        "convergence = [1]\n",
        "timestep=1\n",
        "e=0.001 \n",
        "flag=0\n",
        "epoch=0\n",
        "while epoch<epochs: \n",
        "    shuffle = np.random.randint(len(patterns), size=len(patterns))\n",
        "    for i in range(len(patterns)):       \n",
        "        J = np.linalg.norm(MAP - prev_MAP)\n",
        "        if  J <= e: \n",
        "            flag=1\n",
        "            break\n",
        "        else:\n",
        "            pattern = patterns[shuffle[i]]\n",
        "            pattern_ary = np.tile(pattern, (map_height, map_width, 1))\n",
        "            Eucli_MAP = np.linalg.norm(pattern_ary - MAP, axis=2)\n",
        "            BMU = np.unravel_index(np.argmin(Eucli_MAP, axis=None), Eucli_MAP.shape)\n",
        "            prev_MAP = np.copy(MAP)\n",
        "            for i in range(map_height):\n",
        "                for j in range(map_width):\n",
        "                    distance = np.linalg.norm([i - BMU[0], j - BMU[1]])\n",
        "                    if distance <= radius:\n",
        "                        MAP[i][j] = MAP[i][j] + learning_rate*(pattern-MAP[i][j])\n",
        "            \n",
        "            learning_rate = learning_rate0*(1-(epoch/epochs))\n",
        "            radius = radius0*math.exp(-epoch/epochs)            \n",
        "            timestep+=1\n",
        "    if J < min(convergence):\n",
        "        print('Lower error found: %s' %str(J) + ' at epoch: %s' % str(epoch))\n",
        "        print('\\tLearning rate: ' + str(learning_rate))\n",
        "        print('\\tNeighbourhood radius: ' + str(radius))\n",
        "        MAP_final = MAP\n",
        "    convergence.append(J)\n",
        "    if flag==1:\n",
        "        break\n",
        "    epoch+=1"
      ]
    },
    {
      "cell_type": "markdown",
      "source": [
        "## Visualization of Loss"
      ],
      "metadata": {
        "id": "4gnx5MXIvGxE"
      }
    },
    {
      "cell_type": "code",
      "execution_count": null,
      "metadata": {
        "colab": {
          "base_uri": "https://localhost:8080/",
          "height": 314
        },
        "id": "FAVyqqWOuAYH",
        "outputId": "2cdd60f2-a548-46e8-a750-321edafe0ff5"
      },
      "outputs": [
        {
          "output_type": "display_data",
          "data": {
            "text/plain": [
              "<Figure size 432x288 with 1 Axes>"
            ],
            "image/png": "[encoded data removed]"
          },
          "metadata": {
            "needs_background": "light"
          }
        },
        {
          "output_type": "stream",
          "name": "stdout",
          "text": [
            "Number of timesteps: 739613\n",
            "Final error: 0.0009855062869488305\n"
          ]
        }
      ],
      "source": [
        "plt.plot(convergence)\n",
        "plt.ylabel('error')\n",
        "plt.xlabel('epoch')\n",
        "plt.grid(True)\n",
        "plt.yscale('log')\n",
        "plt.show()\n",
        "print('Number of timesteps: ' + str(timestep))\n",
        "print('Final error: ' + str(J))\n"
      ]
    },
    {
      "cell_type": "markdown",
      "source": [
        "# Visualization of the Clustering result"
      ],
      "metadata": {
        "id": "VatpYUPjvNq1"
      }
    },
    {
      "cell_type": "code",
      "execution_count": null,
      "metadata": {
        "colab": {
          "base_uri": "https://localhost:8080/",
          "height": 317
        },
        "id": "LpQv8vlhuAYI",
        "outputId": "621a0081-3083-4001-e71d-2efc5e50e52a"
      },
      "outputs": [
        {
          "output_type": "stream",
          "name": "stdout",
          "text": [
            "Red = Iris-Setosa\n",
            "Blue = Iris-Virginica\n",
            "Green = Iris-Versicolor\n"
          ]
        },
        {
          "output_type": "display_data",
          "data": {
            "text/plain": [
              "<Figure size 432x288 with 1 Axes>"
            ],
            "image/png": "[encoded data removed]"
          },
          "metadata": {
            "needs_background": "light"
          }
        }
      ],
      "source": [
        "BMU = np.zeros([2], dtype=np.int32)\n",
        "result_map = np.zeros([map_height, map_width, 3], dtype=np.float32)\n",
        "i = 0\n",
        "for pattern in patterns:\n",
        "    pattern_ary = np.tile(pattern, (map_height, map_width, 1))\n",
        "    Eucli_MAP = np.linalg.norm(pattern_ary - MAP_final, axis=2)\n",
        "    BMU = np.unravel_index(np.argmin(Eucli_MAP, axis=None), Eucli_MAP.shape)\n",
        "    x = BMU[0]\n",
        "    y = BMU[1]\n",
        "    if classes[i] == 'Iris-setosa':\n",
        "        if result_map[x][y][0] <= 0.5:\n",
        "            result_map[x][y] += np.asarray([0.5, 0, 0])\n",
        "    elif classes[i] == 'Iris-virginica':\n",
        "        if result_map[x][y][1] <= 0.5:\n",
        "            result_map[x][y] += np.asarray([0, 0.5, 0])\n",
        "    elif classes[i] == 'Iris-versicolor':\n",
        "        if result_map[x][y][2] <= 0.5:\n",
        "            result_map[x][y] += np.asarray([0, 0, 0.5])\n",
        "    i += 1\n",
        "result_map = np.flip(result_map, 0)\n",
        "print(\"Red = Iris-Setosa\")\n",
        "print(\"Blue = Iris-Virginica\")\n",
        "print(\"Green = Iris-Versicolor\")\n",
        "\n",
        "plt.imshow(result_map, interpolation='nearest')\n",
        "plt.show()"
      ]
    },
    {
      "cell_type": "code",
      "execution_count": null,
      "metadata": {
        "id": "xDPvk-oQuAYJ"
      },
      "outputs": [],
      "source": []
    }
  ],
  "metadata": {
    "kernelspec": {
      "display_name": "Python 3.9.13 64-bit (microsoft store)",
      "language": "python",
      "name": "python3"
    },
    "language_info": {
      "codemirror_mode": {
        "name": "ipython",
        "version": 3
      },
      "file_extension": ".py",
      "mimetype": "text/x-python",
      "name": "python",
      "nbconvert_exporter": "python",
      "pygments_lexer": "ipython3",
      "version": "3.9.13"
    },
    "orig_nbformat": 4,
    "vscode": {
      "interpreter": {
        "hash": "24d8ca9d91e8534966449e12a5009315d57fbeaa625782d1369f7e4f82c2f391"
      }
    },
    "colab": {
      "provenance": []
    }
  },
  "nbformat": 4,
  "nbformat_minor": 0
}