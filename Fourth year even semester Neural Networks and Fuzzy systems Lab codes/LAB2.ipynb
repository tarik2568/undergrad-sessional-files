{
  "cells": [
    {
      "cell_type": "markdown",
      "source": [
        "## Importing Necessary Libraries\n",
        "\n"
      ],
      "metadata": {
        "id": "X8j1_J9HPSAM"
      }
    },
    {
      "cell_type": "code",
      "execution_count": null,
      "metadata": {
        "id": "dCE_6-MiL5fN"
      },
      "outputs": [],
      "source": [
        "import numpy as np\n",
        "import pandas as pd\n",
        "import matplotlib.pyplot as plt\n"
      ]
    },
    {
      "cell_type": "markdown",
      "source": [
        "## Reading Dataset as CSV File"
      ],
      "metadata": {
        "id": "BbPvxrHsPUhi"
      }
    },
    {
      "cell_type": "code",
      "execution_count": null,
      "metadata": {
        "colab": {
          "base_uri": "https://localhost:8080/",
          "height": 206
        },
        "id": "p-4iBksRL5fT",
        "outputId": "3a44ac01-b7bf-4674-f5c4-73812a6c9590"
      },
      "outputs": [
        {
          "output_type": "execute_result",
          "data": {
            "text/plain": [
              "   Id  SepalLengthCm  SepalWidthCm  PetalLengthCm  PetalWidthCm      Species\n",
              "0   1            5.1           3.5            1.4           0.2  Iris-setosa\n",
              "1   2            4.9           3.0            1.4           0.2  Iris-setosa\n",
              "2   3            4.7           3.2            1.3           0.2  Iris-setosa\n",
              "3   4            4.6           3.1            1.5           0.2  Iris-setosa\n",
              "4   5            5.0           3.6            1.4           0.2  Iris-setosa"
            ],
            "text/html": [
              "\n",
              "  <div id=\"df-130b8bc5-a388-4593-985d-93867aa00b1d\">\n",
              "    <div class=\"colab-df-container\">\n",
              "      <div>\n",
              "<style scoped>\n",
              "    .dataframe tbody tr th:only-of-type {\n",
              "        vertical-align: middle;\n",
              "    }\n",
              "\n",
              "    .dataframe tbody tr th {\n",
              "        vertical-align: top;\n",
              "    }\n",
              "\n",
              "    .dataframe thead th {\n",
              "        text-align: right;\n",
              "    }\n",
              "</style>\n",
              "<table border=\"1\" class=\"dataframe\">\n",
              "  <thead>\n",
              "    <tr style=\"text-align: right;\">\n",
              "      <th></th>\n",
              "      <th>Id</th>\n",
              "      <th>SepalLengthCm</th>\n",
              "      <th>SepalWidthCm</th>\n",
              "      <th>PetalLengthCm</th>\n",
              "      <th>PetalWidthCm</th>\n",
              "      <th>Species</th>\n",
              "    </tr>\n",
              "  </thead>\n",
              "  <tbody>\n",
              "    <tr>\n",
              "      <th>0</th>\n",
              "      <td>1</td>\n",
              "      <td>5.1</td>\n",
              "      <td>3.5</td>\n",
              "      <td>1.4</td>\n",
              "      <td>0.2</td>\n",
              "      <td>Iris-setosa</td>\n",
              "    </tr>\n",
              "    <tr>\n",
              "      <th>1</th>\n",
              "      <td>2</td>\n",
              "      <td>4.9</td>\n",
              "      <td>3.0</td>\n",
              "      <td>1.4</td>\n",
              "      <td>0.2</td>\n",
              "      <td>Iris-setosa</td>\n",
              "    </tr>\n",
              "    <tr>\n",
              "      <th>2</th>\n",
              "      <td>3</td>\n",
              "      <td>4.7</td>\n",
              "      <td>3.2</td>\n",
              "      <td>1.3</td>\n",
              "      <td>0.2</td>\n",
              "      <td>Iris-setosa</td>\n",
              "    </tr>\n",
              "    <tr>\n",
              "      <th>3</th>\n",
              "      <td>4</td>\n",
              "      <td>4.6</td>\n",
              "      <td>3.1</td>\n",
              "      <td>1.5</td>\n",
              "      <td>0.2</td>\n",
              "      <td>Iris-setosa</td>\n",
              "    </tr>\n",
              "    <tr>\n",
              "      <th>4</th>\n",
              "      <td>5</td>\n",
              "      <td>5.0</td>\n",
              "      <td>3.6</td>\n",
              "      <td>1.4</td>\n",
              "      <td>0.2</td>\n",
              "      <td>Iris-setosa</td>\n",
              "    </tr>\n",
              "  </tbody>\n",
              "</table>\n",
              "</div>\n",
              "      <button class=\"colab-df-convert\" onclick=\"convertToInteractive('df-130b8bc5-a388-4593-985d-93867aa00b1d')\"\n",
              "              title=\"Convert this dataframe to an interactive table.\"\n",
              "              style=\"display:none;\">\n",
              "        \n",
              "  <svg xmlns=\"http://www.w3.org/2000/svg\" height=\"24px\"viewBox=\"0 0 24 24\"\n",
              "       width=\"24px\">\n",
              "    <path d=\"M0 0h24v24H0V0z\" fill=\"none\"/>\n",
              "    <path d=\"M18.56 5.44l.94 2.06.94-2.06 2.06-.94-2.06-.94-.94-2.06-.94 2.06-2.06.94zm-11 1L8.5 8.5l.94-2.06 2.06-.94-2.06-.94L8.5 2.5l-.94 2.06-2.06.94zm10 10l.94 2.06.94-2.06 2.06-.94-2.06-.94-.94-2.06-.94 2.06-2.06.94z\"/><path d=\"M17.41 7.96l-1.37-1.37c-.4-.4-.92-.59-1.43-.59-.52 0-1.04.2-1.43.59L10.3 9.45l-7.72 7.72c-.78.78-.78 2.05 0 2.83L4 21.41c.39.39.9.59 1.41.59.51 0 1.02-.2 1.41-.59l7.78-7.78 2.81-2.81c.8-.78.8-2.07 0-2.86zM5.41 20L4 18.59l7.72-7.72 1.47 1.35L5.41 20z\"/>\n",
              "  </svg>\n",
              "      </button>\n",
              "      \n",
              "  <style>\n",
              "    .colab-df-container {\n",
              "      display:flex;\n",
              "      flex-wrap:wrap;\n",
              "      gap: 12px;\n",
              "    }\n",
              "\n",
              "    .colab-df-convert {\n",
              "      background-color: #E8F0FE;\n",
              "      border: none;\n",
              "      border-radius: 50%;\n",
              "      cursor: pointer;\n",
              "      display: none;\n",
              "      fill: #1967D2;\n",
              "      height: 32px;\n",
              "      padding: 0 0 0 0;\n",
              "      width: 32px;\n",
              "    }\n",
              "\n",
              "    .colab-df-convert:hover {\n",
              "      background-color: #E2EBFA;\n",
              "      box-shadow: 0px 1px 2px rgba(60, 64, 67, 0.3), 0px 1px 3px 1px rgba(60, 64, 67, 0.15);\n",
              "      fill: #174EA6;\n",
              "    }\n",
              "\n",
              "    [theme=dark] .colab-df-convert {\n",
              "      background-color: #3B4455;\n",
              "      fill: #D2E3FC;\n",
              "    }\n",
              "\n",
              "    [theme=dark] .colab-df-convert:hover {\n",
              "      background-color: #434B5C;\n",
              "      box-shadow: 0px 1px 3px 1px rgba(0, 0, 0, 0.15);\n",
              "      filter: drop-shadow(0px 1px 2px rgba(0, 0, 0, 0.3));\n",
              "      fill: #FFFFFF;\n",
              "    }\n",
              "  </style>\n",
              "\n",
              "      <script>\n",
              "        const buttonEl =\n",
              "          document.querySelector('#df-130b8bc5-a388-4593-985d-93867aa00b1d button.colab-df-convert');\n",
              "        buttonEl.style.display =\n",
              "          google.colab.kernel.accessAllowed ? 'block' : 'none';\n",
              "\n",
              "        async function convertToInteractive(key) {\n",
              "          const element = document.querySelector('#df-130b8bc5-a388-4593-985d-93867aa00b1d');\n",
              "          const dataTable =\n",
              "            await google.colab.kernel.invokeFunction('convertToInteractive',\n",
              "                                                     [key], {});\n",
              "          if (!dataTable) return;\n",
              "\n",
              "          const docLinkHtml = 'Like what you see? Visit the ' +\n",
              "            '<a target=\"_blank\" href=https://colab.research.google.com/notebooks/data_table.ipynb>data table notebook</a>'\n",
              "            + ' to learn more about interactive tables.';\n",
              "          element.innerHTML = '';\n",
              "          dataTable['output_type'] = 'display_data';\n",
              "          await google.colab.output.renderOutput(dataTable, element);\n",
              "          const docLink = document.createElement('div');\n",
              "          docLink.innerHTML = docLinkHtml;\n",
              "          element.appendChild(docLink);\n",
              "        }\n",
              "      </script>\n",
              "    </div>\n",
              "  </div>\n",
              "  "
            ]
          },
          "metadata": {},
          "execution_count": 5
        }
      ],
      "source": [
        "dataframe = pd.read_csv('Iris.csv')\n",
        "dataframe.head()\n"
      ]
    },
    {
      "cell_type": "markdown",
      "source": [
        "## Observing the columns of the dataset"
      ],
      "metadata": {
        "id": "vPclf3_SPfDM"
      }
    },
    {
      "cell_type": "code",
      "execution_count": null,
      "metadata": {
        "colab": {
          "base_uri": "https://localhost:8080/"
        },
        "id": "KFW3RhYEL5fV",
        "outputId": "775cceb8-df81-4ad2-e443-22a44494df0b"
      },
      "outputs": [
        {
          "output_type": "execute_result",
          "data": {
            "text/plain": [
              "Index(['Id', 'SepalLengthCm', 'SepalWidthCm', 'PetalLengthCm', 'PetalWidthCm',\n",
              "       'Species'],\n",
              "      dtype='object')"
            ]
          },
          "metadata": {},
          "execution_count": 6
        }
      ],
      "source": [
        "dataframe.columns"
      ]
    },
    {
      "cell_type": "markdown",
      "source": [
        "## Separating Features and Target Columns"
      ],
      "metadata": {
        "id": "J5uo0ECxPgsb"
      }
    },
    {
      "cell_type": "code",
      "execution_count": null,
      "metadata": {
        "id": "xKrAc1rDL5fW"
      },
      "outputs": [],
      "source": [
        "X_cols = ['SepalLengthCm', 'SepalWidthCm', 'PetalLengthCm', 'PetalWidthCm']\n",
        "Y_cols = ['Species']\n"
      ]
    },
    {
      "cell_type": "markdown",
      "source": [
        "## Identifying the unique class names"
      ],
      "metadata": {
        "id": "52Dv1BQaPk5n"
      }
    },
    {
      "cell_type": "code",
      "execution_count": null,
      "metadata": {
        "colab": {
          "base_uri": "https://localhost:8080/"
        },
        "id": "eJVB6ZDQL5fX",
        "outputId": "a05e6b75-d77c-4848-8408-707878c5390a"
      },
      "outputs": [
        {
          "output_type": "execute_result",
          "data": {
            "text/plain": [
              "array(['Iris-setosa', 'Iris-versicolor', 'Iris-virginica'], dtype=object)"
            ]
          },
          "metadata": {},
          "execution_count": 8
        }
      ],
      "source": [
        "classes = dataframe.Species.unique()\n",
        "classes\n"
      ]
    },
    {
      "cell_type": "code",
      "execution_count": null,
      "metadata": {
        "id": "I3U6tje4L5fY"
      },
      "outputs": [],
      "source": [
        "classes = ['Iris-setosa', 'Iris-versicolor', 'Iris-virginica']"
      ]
    },
    {
      "cell_type": "markdown",
      "source": [
        "## Replacing the classnames by numeric values"
      ],
      "metadata": {
        "id": "MIn8N388PqBL"
      }
    },
    {
      "cell_type": "code",
      "execution_count": null,
      "metadata": {
        "id": "KHZxaVB5L5fY"
      },
      "outputs": [],
      "source": [
        "dataframe.Species.replace(classes, [0,1,2], inplace = True)"
      ]
    },
    {
      "cell_type": "markdown",
      "source": [
        "##  Function to perform normalization of the data"
      ],
      "metadata": {
        "id": "TcVsRbXZPsOA"
      }
    },
    {
      "cell_type": "code",
      "execution_count": null,
      "metadata": {
        "id": "IsCdUYXZL5fZ"
      },
      "outputs": [],
      "source": [
        "def normalize(x, axis=-1, order=2):\n",
        "    l2 = np.atleast_1d(np.linalg.norm(x, order, axis))\n",
        "    l2[l2 == 0] = 1\n",
        "    return x / np.expand_dims(l2, axis)\n"
      ]
    },
    {
      "cell_type": "markdown",
      "source": [
        "##  Function to perform one-hot encoding of the target class"
      ],
      "metadata": {
        "id": "fpBfBxZBPt7K"
      }
    },
    {
      "cell_type": "code",
      "execution_count": null,
      "metadata": {
        "id": "0pKCtKy_L5fb"
      },
      "outputs": [],
      "source": [
        "def one_hot_encoding(y):\n",
        "    n_cols = np.amax(y) + 1\n",
        "    array = np.zeros((len(y), n_cols))\n",
        "    for i in range(len(y)):\n",
        "        array[i, y[i]] = 1\n",
        "    return array\n"
      ]
    },
    {
      "cell_type": "markdown",
      "source": [
        "## Preprocessing Input Data"
      ],
      "metadata": {
        "id": "v2RkF_C0P0PD"
      }
    },
    {
      "cell_type": "code",
      "execution_count": null,
      "metadata": {
        "colab": {
          "base_uri": "https://localhost:8080/"
        },
        "id": "DVsHKuYeL5fc",
        "outputId": "4af69143-9222-41ec-8064-ab3c239fa544"
      },
      "outputs": [
        {
          "output_type": "execute_result",
          "data": {
            "text/plain": [
              "array([[0.80377277, 0.55160877, 0.22064351, 0.0315205 ],\n",
              "       [0.82813287, 0.50702013, 0.23660939, 0.03380134],\n",
              "       [0.80533308, 0.54831188, 0.2227517 , 0.03426949],\n",
              "       [0.80003025, 0.53915082, 0.26087943, 0.03478392],\n",
              "       [0.790965  , 0.5694948 , 0.2214702 , 0.0316386 ]])"
            ]
          },
          "metadata": {},
          "execution_count": 13
        }
      ],
      "source": [
        "X = pd.DataFrame(dataframe, columns=X_cols)\n",
        "X = normalize(X.values)\n",
        "X[:5]\n"
      ]
    },
    {
      "cell_type": "markdown",
      "source": [
        "## Preprocessing Target Data"
      ],
      "metadata": {
        "id": "i7SxLWibP2FU"
      }
    },
    {
      "cell_type": "code",
      "execution_count": null,
      "metadata": {
        "colab": {
          "base_uri": "https://localhost:8080/"
        },
        "id": "M6qbCzDIL5fd",
        "outputId": "b038fbde-1b13-4206-9176-3cf0130e9b2c"
      },
      "outputs": [
        {
          "output_type": "execute_result",
          "data": {
            "text/plain": [
              "array([[1., 0., 0.],\n",
              "       [1., 0., 0.],\n",
              "       [1., 0., 0.],\n",
              "       [1., 0., 0.],\n",
              "       [1., 0., 0.]])"
            ]
          },
          "metadata": {},
          "execution_count": 14
        }
      ],
      "source": [
        "Y = pd.DataFrame(dataframe, columns=Y_cols)\n",
        "Y = Y.values\n",
        "Y = Y.flatten()\n",
        "Y = one_hot_encoding(Y)\n",
        "Y[:5]"
      ]
    },
    {
      "cell_type": "markdown",
      "source": [
        "## Activation Function and its derivative"
      ],
      "metadata": {
        "id": "--EoOq9aQB9d"
      }
    },
    {
      "cell_type": "code",
      "execution_count": null,
      "metadata": {
        "id": "NYyJkNEkL5fd"
      },
      "outputs": [],
      "source": [
        "def sigmoid(x):\n",
        "    return 1 / (1 + np.exp(-x))\n",
        "\n",
        "def sigmoid_derivative(x):\n",
        "    return sigmoid(x) * (1 - sigmoid(x))\n"
      ]
    },
    {
      "cell_type": "markdown",
      "source": [
        "## Function for weight initialization"
      ],
      "metadata": {
        "id": "bINOOKVEQX2c"
      }
    },
    {
      "cell_type": "code",
      "execution_count": null,
      "metadata": {
        "id": "rZtTZ1wLL5fe"
      },
      "outputs": [],
      "source": [
        "def init_weight(ins, outs):\n",
        "    return np.random.random((ins,outs))"
      ]
    },
    {
      "cell_type": "markdown",
      "source": [
        "## Loss and Accuracy Function"
      ],
      "metadata": {
        "id": "adAUK8voQwU8"
      }
    },
    {
      "cell_type": "code",
      "execution_count": null,
      "metadata": {
        "id": "3G-A5JUGL5fe"
      },
      "outputs": [],
      "source": [
        "def loss_fn(y, y_hat):\n",
        "    mse = np.mean(np.square(y - y_hat))\n",
        "    return mse\n",
        "\n",
        "def accuracy(e):\n",
        "    return (1 - e) * 100"
      ]
    },
    {
      "cell_type": "markdown",
      "source": [
        "## Function to plot results"
      ],
      "metadata": {
        "id": "6G3NaGM8Qz0v"
      }
    },
    {
      "cell_type": "code",
      "source": [
        "def plot(data, type):\n",
        "    plt.figure()\n",
        "    plt.plot(data)\n",
        "    plt.xlabel('Epochs')\n",
        "    plt.ylabel(type)\n",
        "    plt.grid(True)\n",
        "    plt.show()\n"
      ],
      "metadata": {
        "id": "nFy2qgpOOngt"
      },
      "execution_count": null,
      "outputs": []
    },
    {
      "cell_type": "markdown",
      "source": [
        "## MLP with 2 Hidden layers with 30 and 50 nodes respectively "
      ],
      "metadata": {
        "id": "xgkF3lr6Q5ix"
      }
    },
    {
      "cell_type": "code",
      "execution_count": null,
      "metadata": {
        "id": "9AUnESm2L5ff"
      },
      "outputs": [],
      "source": [
        "def train_mlp(X, Y, epochs=1000, lr=0.1):\n",
        "    w0, w1, w2 = init_weight(len(X[0]), 30), init_weight(30, 50), init_weight(50, len(Y[0])),\n",
        "    errors, accuracies = [], []\n",
        "    for epoch in range(epochs):\n",
        "\n",
        "        l0 = X\n",
        "        l1 = sigmoid(np.dot(l0, w0))\n",
        "        l2 = sigmoid(np.dot(l1, w1))\n",
        "        l3 = sigmoid(np.dot(l2, w2))\n",
        "\n",
        "        l3_error = Y - l3\n",
        "        l3_delta = l3_error * sigmoid_derivative(l3)\n",
        "\n",
        "        l2_error = l3_delta.dot(w2.T)\n",
        "        l2_delta = l2_error * sigmoid_derivative(l2)\n",
        "\n",
        "        l1_error = l2_delta.dot(w1.T)\n",
        "        l1_delta = l1_error * sigmoid_derivative(l1)\n",
        "        w2 += l2.T.dot(l3_delta) * lr\n",
        "        w1 += l1.T.dot(l2_delta) * lr\n",
        "        w0 += l0.T.dot(l1_delta) * lr\n",
        "        e = loss_fn(Y, l3)\n",
        "        errors.append(e)\n",
        "        acc = (1 - e) * 100\n",
        "        accuracies.append(acc)\n",
        "        if (epoch+1) % 1000 == 0:\n",
        "            print(f\"Epoch {epoch+1}/{epochs}: Loss = {e} =====  Accuracy = {acc}\")\n",
        "\n",
        "    print(f\"\\n\\nFinal Accuracy = {accuracies[-1]}\\nMax Accuracy = {max(accuracies)}\\n\\n\\n\")\n",
        "    return errors, accuracies"
      ]
    },
    {
      "cell_type": "markdown",
      "source": [
        "## Training the network"
      ],
      "metadata": {
        "id": "VQWJgXfTRMv9"
      }
    },
    {
      "cell_type": "code",
      "execution_count": null,
      "metadata": {
        "colab": {
          "base_uri": "https://localhost:8080/"
        },
        "id": "PMz81XXpL5gL",
        "outputId": "eeabb70f-f581-4022-b89e-f8719d41dcc3"
      },
      "outputs": [
        {
          "output_type": "stream",
          "name": "stdout",
          "text": [
            "Epoch 1000/10000: Loss = 0.07586087809629652 =====  Accuracy = 92.41391219037035\n",
            "Epoch 2000/10000: Loss = 0.0415745193262759 =====  Accuracy = 95.84254806737242\n",
            "Epoch 3000/10000: Loss = 0.04258196890508713 =====  Accuracy = 95.74180310949129\n",
            "Epoch 4000/10000: Loss = 0.018894930666841236 =====  Accuracy = 98.11050693331588\n",
            "Epoch 5000/10000: Loss = 0.01607755562225589 =====  Accuracy = 98.39224443777441\n",
            "Epoch 6000/10000: Loss = 0.01527642312267712 =====  Accuracy = 98.4723576877323\n",
            "Epoch 7000/10000: Loss = 0.014911120486523015 =====  Accuracy = 98.5088879513477\n",
            "Epoch 8000/10000: Loss = 0.014686173536691511 =====  Accuracy = 98.53138264633084\n",
            "Epoch 9000/10000: Loss = 0.014520817106683926 =====  Accuracy = 98.5479182893316\n",
            "Epoch 10000/10000: Loss = 0.014388038056679844 =====  Accuracy = 98.56119619433201\n",
            "\n",
            "\n",
            "Final Accuracy = 98.56119619433201\n",
            "Max Accuracy = 98.56119619433201\n",
            "\n",
            "\n",
            "\n"
          ]
        }
      ],
      "source": [
        "loss, accuracy = train_mlp(X, Y, epochs=10000, lr=0.01)"
      ]
    },
    {
      "cell_type": "markdown",
      "source": [
        "## Plotting Loss "
      ],
      "metadata": {
        "id": "_ImuaauoROi7"
      }
    },
    {
      "cell_type": "code",
      "execution_count": null,
      "metadata": {
        "colab": {
          "base_uri": "https://localhost:8080/",
          "height": 279
        },
        "id": "b6TlpHI3L5gL",
        "outputId": "a515c1e0-e2e8-4bce-9f92-ca3abfb5a7fb"
      },
      "outputs": [
        {
          "output_type": "display_data",
          "data": {
            "text/plain": [
              "<Figure size 432x288 with 1 Axes>"
            ],
            "image/png": "[encoded data removed]"
          },
          "metadata": {
            "needs_background": "light"
          }
        }
      ],
      "source": [
        "plot(loss,'Loss')"
      ]
    },
    {
      "cell_type": "markdown",
      "source": [
        "## Plotting Accuracy "
      ],
      "metadata": {
        "id": "iBXOn_2ZRVqI"
      }
    },
    {
      "cell_type": "code",
      "source": [
        "plot(accuracy,'Accuracy')"
      ],
      "metadata": {
        "colab": {
          "base_uri": "https://localhost:8080/",
          "height": 279
        },
        "id": "Lc7d5F_2PBUT",
        "outputId": "db0aeccf-b4fd-4f4e-ed78-73fbba2cead2"
      },
      "execution_count": null,
      "outputs": [
        {
          "output_type": "display_data",
          "data": {
            "text/plain": [
              "<Figure size 432x288 with 1 Axes>"
            ],
            "image/png": "[encoded data removed]"
          },
          "metadata": {
            "needs_background": "light"
          }
        }
      ]
    }
  ],
  "metadata": {
    "kernelspec": {
      "display_name": "Python 3.9.13 64-bit (microsoft store)",
      "language": "python",
      "name": "python3"
    },
    "language_info": {
      "codemirror_mode": {
        "name": "ipython",
        "version": 3
      },
      "file_extension": ".py",
      "mimetype": "text/x-python",
      "name": "python",
      "nbconvert_exporter": "python",
      "pygments_lexer": "ipython3",
      "version": "3.9.13"
    },
    "orig_nbformat": 4,
    "vscode": {
      "interpreter": {
        "hash": "24d8ca9d91e8534966449e12a5009315d57fbeaa625782d1369f7e4f82c2f391"
      }
    },
    "colab": {
      "provenance": []
    }
  },
  "nbformat": 4,
  "nbformat_minor": 0
}