{
 "cells": [
  {
   "cell_type": "code",
   "execution_count": 1,
   "metadata": {},
   "outputs": [],
   "source": [
    "import numpy as np\n",
    "import matplotlib.pyplot as plt\n",
    "import pandas as pd"
   ]
  },
  {
   "cell_type": "code",
   "execution_count": 2,
   "metadata": {},
   "outputs": [],
   "source": [
    "df = pd.read_csv('iris.csv')"
   ]
  },
  {
   "cell_type": "code",
   "execution_count": 3,
   "metadata": {},
   "outputs": [
    {
     "data": {
      "text/html": [
       "<div>\n",
       "<style scoped>\n",
       "    .dataframe tbody tr th:only-of-type {\n",
       "        vertical-align: middle;\n",
       "    }\n",
       "\n",
       "    .dataframe tbody tr th {\n",
       "        vertical-align: top;\n",
       "    }\n",
       "\n",
       "    .dataframe thead th {\n",
       "        text-align: right;\n",
       "    }\n",
       "</style>\n",
       "<table border=\"1\" class=\"dataframe\">\n",
       "  <thead>\n",
       "    <tr style=\"text-align: right;\">\n",
       "      <th></th>\n",
       "      <th>sepal_length</th>\n",
       "      <th>sepal_width</th>\n",
       "      <th>petal_length</th>\n",
       "      <th>petal_width</th>\n",
       "      <th>Class</th>\n",
       "    </tr>\n",
       "  </thead>\n",
       "  <tbody>\n",
       "    <tr>\n",
       "      <th>0</th>\n",
       "      <td>5.1</td>\n",
       "      <td>3.5</td>\n",
       "      <td>1.4</td>\n",
       "      <td>0.2</td>\n",
       "      <td>0</td>\n",
       "    </tr>\n",
       "    <tr>\n",
       "      <th>1</th>\n",
       "      <td>4.9</td>\n",
       "      <td>3.0</td>\n",
       "      <td>1.4</td>\n",
       "      <td>0.2</td>\n",
       "      <td>0</td>\n",
       "    </tr>\n",
       "    <tr>\n",
       "      <th>2</th>\n",
       "      <td>4.7</td>\n",
       "      <td>3.2</td>\n",
       "      <td>1.3</td>\n",
       "      <td>0.2</td>\n",
       "      <td>0</td>\n",
       "    </tr>\n",
       "    <tr>\n",
       "      <th>3</th>\n",
       "      <td>4.6</td>\n",
       "      <td>3.1</td>\n",
       "      <td>1.5</td>\n",
       "      <td>0.2</td>\n",
       "      <td>0</td>\n",
       "    </tr>\n",
       "    <tr>\n",
       "      <th>4</th>\n",
       "      <td>5.0</td>\n",
       "      <td>3.6</td>\n",
       "      <td>1.4</td>\n",
       "      <td>0.2</td>\n",
       "      <td>0</td>\n",
       "    </tr>\n",
       "  </tbody>\n",
       "</table>\n",
       "</div>"
      ],
      "text/plain": [
       "   sepal_length  sepal_width  petal_length  petal_width  Class\n",
       "0           5.1          3.5           1.4          0.2      0\n",
       "1           4.9          3.0           1.4          0.2      0\n",
       "2           4.7          3.2           1.3          0.2      0\n",
       "3           4.6          3.1           1.5          0.2      0\n",
       "4           5.0          3.6           1.4          0.2      0"
      ]
     },
     "execution_count": 3,
     "metadata": {},
     "output_type": "execute_result"
    }
   ],
   "source": [
    "df.head()"
   ]
  },
  {
   "cell_type": "code",
   "execution_count": 4,
   "metadata": {},
   "outputs": [
    {
     "data": {
      "text/plain": [
       "Index(['sepal_length', 'sepal_width', 'petal_length', 'petal_width', 'Class'], dtype='object')"
      ]
     },
     "execution_count": 4,
     "metadata": {},
     "output_type": "execute_result"
    }
   ],
   "source": [
    "df.columns"
   ]
  },
  {
   "cell_type": "code",
   "execution_count": 15,
   "metadata": {},
   "outputs": [],
   "source": [
    "X_columns = ['sepal_length', 'sepal_width', 'petal_length', 'petal_width']\n",
    "Y_columns = ['variety']"
   ]
  },
  {
   "cell_type": "code",
   "execution_count": 16,
   "metadata": {},
   "outputs": [
    {
     "data": {
      "text/plain": [
       "array([0, 1], dtype=int64)"
      ]
     },
     "execution_count": 16,
     "metadata": {},
     "output_type": "execute_result"
    }
   ],
   "source": [
    "df.Class.unique()"
   ]
  },
  {
   "cell_type": "code",
   "execution_count": null,
   "metadata": {},
   "outputs": [],
   "source": []
  },
  {
   "cell_type": "code",
   "execution_count": null,
   "metadata": {},
   "outputs": [],
   "source": []
  },
  {
   "cell_type": "code",
   "execution_count": 17,
   "metadata": {},
   "outputs": [
    {
     "data": {
      "text/plain": [
       "0     0\n",
       "1     0\n",
       "2     0\n",
       "3     0\n",
       "4     0\n",
       "     ..\n",
       "95    1\n",
       "96    1\n",
       "97    1\n",
       "98    1\n",
       "99    1\n",
       "Name: Class, Length: 100, dtype: int64"
      ]
     },
     "execution_count": 17,
     "metadata": {},
     "output_type": "execute_result"
    }
   ],
   "source": [
    "df.Class"
   ]
  },
  {
   "cell_type": "code",
   "execution_count": 18,
   "metadata": {},
   "outputs": [],
   "source": [
    "def normalization(x, axis = -1, order = 2):\n",
    "    l2 = np.atleast_1d(np.linalg.norm(x,order,axis))\n",
    "    l2[l2 == 0] = 1\n",
    "    return x / np.expand_dims(l2, axis)\n",
    "\n",
    "def one_hot_encoding(y):\n",
    "    columns = np.amax(y) + 1\n",
    "    rows = len(y)\n",
    "    array = np.zeros((rows , columns))\n",
    "    for i in range(rows):\n",
    "        array[i, y[i]] = 1\n",
    "    return array\n",
    "    \n",
    "def sigmoid(x):\n",
    "    return 1 / (1 + np.exp(-x))\n",
    "def sigmoid_derivative(x):\n",
    "    return sigmoid(x) * ( 1 - sigmoid(x))"
   ]
  },
  {
   "cell_type": "code",
   "execution_count": 20,
   "metadata": {},
   "outputs": [
    {
     "data": {
      "text/plain": [
       "array([[0.80377277, 0.55160877, 0.22064351, 0.0315205 ],\n",
       "       [0.82813287, 0.50702013, 0.23660939, 0.03380134],\n",
       "       [0.80533308, 0.54831188, 0.2227517 , 0.03426949],\n",
       "       [0.80003025, 0.53915082, 0.26087943, 0.03478392],\n",
       "       [0.790965  , 0.5694948 , 0.2214702 , 0.0316386 ]])"
      ]
     },
     "execution_count": 20,
     "metadata": {},
     "output_type": "execute_result"
    }
   ],
   "source": [
    "X = pd.DataFrame(df, columns = X_columns)\n",
    "X = X.values\n",
    "X = normalization(X)\n",
    "X[:5]"
   ]
  },
  {
   "cell_type": "code",
   "execution_count": 21,
   "metadata": {},
   "outputs": [
    {
     "ename": "TypeError",
     "evalue": "'numpy.float64' object cannot be interpreted as an integer",
     "output_type": "error",
     "traceback": [
      "\u001b[1;31m---------------------------------------------------------------------------\u001b[0m",
      "\u001b[1;31mTypeError\u001b[0m                                 Traceback (most recent call last)",
      "\u001b[1;32m<ipython-input-21-325da010a7b2>\u001b[0m in \u001b[0;36m<module>\u001b[1;34m\u001b[0m\n\u001b[0;32m      2\u001b[0m \u001b[0mY\u001b[0m \u001b[1;33m=\u001b[0m \u001b[0mY\u001b[0m\u001b[1;33m.\u001b[0m\u001b[0mvalues\u001b[0m\u001b[1;33m\u001b[0m\u001b[1;33m\u001b[0m\u001b[0m\n\u001b[0;32m      3\u001b[0m \u001b[0mY\u001b[0m \u001b[1;33m=\u001b[0m \u001b[0mY\u001b[0m\u001b[1;33m.\u001b[0m\u001b[0mflatten\u001b[0m\u001b[1;33m(\u001b[0m\u001b[1;33m)\u001b[0m\u001b[1;33m\u001b[0m\u001b[1;33m\u001b[0m\u001b[0m\n\u001b[1;32m----> 4\u001b[1;33m \u001b[0mY\u001b[0m \u001b[1;33m=\u001b[0m \u001b[0mone_hot_encoding\u001b[0m\u001b[1;33m(\u001b[0m\u001b[0mY\u001b[0m\u001b[1;33m)\u001b[0m\u001b[1;33m\u001b[0m\u001b[1;33m\u001b[0m\u001b[0m\n\u001b[0m\u001b[0;32m      5\u001b[0m \u001b[0mY\u001b[0m\u001b[1;33m[\u001b[0m\u001b[1;33m:\u001b[0m\u001b[1;36m5\u001b[0m\u001b[1;33m]\u001b[0m\u001b[1;33m\u001b[0m\u001b[1;33m\u001b[0m\u001b[0m\n",
      "\u001b[1;32m<ipython-input-18-0d9c8573cc40>\u001b[0m in \u001b[0;36mone_hot_encoding\u001b[1;34m(y)\u001b[0m\n\u001b[0;32m      7\u001b[0m     \u001b[0mcolumns\u001b[0m \u001b[1;33m=\u001b[0m \u001b[0mnp\u001b[0m\u001b[1;33m.\u001b[0m\u001b[0mamax\u001b[0m\u001b[1;33m(\u001b[0m\u001b[0my\u001b[0m\u001b[1;33m)\u001b[0m \u001b[1;33m+\u001b[0m \u001b[1;36m1\u001b[0m\u001b[1;33m\u001b[0m\u001b[1;33m\u001b[0m\u001b[0m\n\u001b[0;32m      8\u001b[0m     \u001b[0mrows\u001b[0m \u001b[1;33m=\u001b[0m \u001b[0mlen\u001b[0m\u001b[1;33m(\u001b[0m\u001b[0my\u001b[0m\u001b[1;33m)\u001b[0m\u001b[1;33m\u001b[0m\u001b[1;33m\u001b[0m\u001b[0m\n\u001b[1;32m----> 9\u001b[1;33m     \u001b[0marray\u001b[0m \u001b[1;33m=\u001b[0m \u001b[0mnp\u001b[0m\u001b[1;33m.\u001b[0m\u001b[0mzeros\u001b[0m\u001b[1;33m(\u001b[0m\u001b[1;33m(\u001b[0m\u001b[0mrows\u001b[0m \u001b[1;33m,\u001b[0m \u001b[0mcolumns\u001b[0m\u001b[1;33m)\u001b[0m\u001b[1;33m)\u001b[0m\u001b[1;33m\u001b[0m\u001b[1;33m\u001b[0m\u001b[0m\n\u001b[0m\u001b[0;32m     10\u001b[0m     \u001b[1;32mfor\u001b[0m \u001b[0mi\u001b[0m \u001b[1;32min\u001b[0m \u001b[0mrange\u001b[0m\u001b[1;33m(\u001b[0m\u001b[0mrows\u001b[0m\u001b[1;33m)\u001b[0m\u001b[1;33m:\u001b[0m\u001b[1;33m\u001b[0m\u001b[1;33m\u001b[0m\u001b[0m\n\u001b[0;32m     11\u001b[0m         \u001b[0marray\u001b[0m\u001b[1;33m[\u001b[0m\u001b[0mi\u001b[0m\u001b[1;33m,\u001b[0m \u001b[0my\u001b[0m\u001b[1;33m[\u001b[0m\u001b[0mi\u001b[0m\u001b[1;33m]\u001b[0m\u001b[1;33m]\u001b[0m \u001b[1;33m=\u001b[0m \u001b[1;36m1\u001b[0m\u001b[1;33m\u001b[0m\u001b[1;33m\u001b[0m\u001b[0m\n",
      "\u001b[1;31mTypeError\u001b[0m: 'numpy.float64' object cannot be interpreted as an integer"
     ]
    }
   ],
   "source": [
    "Y = pd.DataFrame(df, columns = Y_columns)\n",
    "Y = Y.values\n",
    "Y = Y.flatten()\n",
    "Y = one_hot_encoding(Y)\n",
    "Y[:5]"
   ]
  },
  {
   "cell_type": "code",
   "execution_count": 30,
   "metadata": {},
   "outputs": [],
   "source": [
    "def weight_init(in_channel, out_channel):\n",
    "    return np.random.random((in_channel, out_channel))\n",
    "\n",
    "def calculate_loss(error):\n",
    "    return np.mean(abs(error))"
   ]
  },
  {
   "cell_type": "code",
   "execution_count": 60,
   "metadata": {},
   "outputs": [],
   "source": [
    "def mlp_training(X,Y, lr = 0.1,epochs = 50, hidden_dims = [10,10]):\n",
    "    w0,w1, w2 = weight_init(4,hidden_dims[0]),weight_init(hidden_dims[1],hidden_dims[1]),weight_init(hidden_dims[1],3)\n",
    "    losses, acc = [], []\n",
    "    \n",
    "    for epoch in range(epochs):\n",
    "        \n",
    "        input_layer = X\n",
    "        hidden1 = sigmoid(np.dot(input_layer,w0))\n",
    "        hidden2 = sigmoid(np.dot(hidden1, w1))\n",
    "        output_layer = sigmoid(np.dot(hidden2, w2))\n",
    "        \n",
    "        output_layer_error = Y - output_layer\n",
    "        output_layer_delta = output_layer_error * sigmoid_derivative(output_layer)\n",
    "        \n",
    "        hidden2_error = output_layer_delta.dot(w2.T)\n",
    "        hidden2_delta = hidden2_error * sigmoid_derivative(hidden2)\n",
    "        \n",
    "        hidden1_error = hidden2_delta.dot(w1.T)\n",
    "        hidden1_delta = hidden1_error * sigmoid_derivative(hidden1)\n",
    "        \n",
    "        w2 += hidden2.T.dot(output_layer_delta) * lr\n",
    "        w1 += hidden1.T.dot(hidden2_delta) * lr\n",
    "        w0 += input_layer.T.dot(hidden1_delta) * lr\n",
    "    \n",
    "        loss = np.mean(abs(output_layer_error))\n",
    "        accuracy = (1 - loss) * 100\n",
    "        losses.append(loss)\n",
    "        acc.append(accuracy)\n",
    "        if epoch % 100 == 0:\n",
    "            print(f\"{epoch}/{epochs}: Loss = {loss} \\t Accuracy = {accuracy}\")\n",
    "    print(f\"{epoch}/{epochs}: Loss = {loss} \\t Accuracy = {accuracy}\")\n",
    "    return [losses, acc]\n",
    "        "
   ]
  },
  {
   "cell_type": "code",
   "execution_count": 61,
   "metadata": {},
   "outputs": [
    {
     "name": "stdout",
     "output_type": "stream",
     "text": [
      "0/10000: Loss = 0.6666666666666666 \t Accuracy = 33.333333333333336\n",
      "100/10000: Loss = 0.5733304835973423 \t Accuracy = 42.66695164026577\n",
      "200/10000: Loss = 0.5206609615972863 \t Accuracy = 47.93390384027138\n",
      "300/10000: Loss = 0.502291418284937 \t Accuracy = 49.770858171506305\n",
      "400/10000: Loss = 0.4932287687327813 \t Accuracy = 50.67712312672187\n",
      "500/10000: Loss = 0.4878351613818909 \t Accuracy = 51.2164838618109\n",
      "600/10000: Loss = 0.48426883279477606 \t Accuracy = 51.57311672052239\n",
      "700/10000: Loss = 0.48175234668635936 \t Accuracy = 51.82476533136406\n",
      "800/10000: Loss = 0.47989195217856834 \t Accuracy = 52.01080478214317\n",
      "900/10000: Loss = 0.4784522945181574 \t Accuracy = 52.15477054818426\n",
      "1000/10000: Loss = 0.4772528774140668 \t Accuracy = 52.274712258593325\n",
      "1100/10000: Loss = 0.4760748651755025 \t Accuracy = 52.39251348244976\n",
      "1200/10000: Loss = 0.47444780137538717 \t Accuracy = 52.55521986246128\n",
      "1300/10000: Loss = 0.47079279194452744 \t Accuracy = 52.92072080554726\n",
      "1400/10000: Loss = 0.4576292389271181 \t Accuracy = 54.23707610728818\n",
      "1500/10000: Loss = 0.39372782343628654 \t Accuracy = 60.62721765637134\n",
      "1600/10000: Loss = 0.3088831479895179 \t Accuracy = 69.11168520104822\n",
      "1700/10000: Loss = 0.24379058010779078 \t Accuracy = 75.62094198922092\n",
      "1800/10000: Loss = 0.19607463460073235 \t Accuracy = 80.39253653992677\n",
      "1900/10000: Loss = 0.1634242491030683 \t Accuracy = 83.65757508969317\n",
      "2000/10000: Loss = 0.13764012684266327 \t Accuracy = 86.23598731573368\n",
      "2100/10000: Loss = 0.11776009920690421 \t Accuracy = 88.22399007930957\n",
      "2200/10000: Loss = 0.10260493096597219 \t Accuracy = 89.73950690340277\n",
      "2300/10000: Loss = 0.09103228838445296 \t Accuracy = 90.8967711615547\n",
      "2400/10000: Loss = 0.08212696097027594 \t Accuracy = 91.78730390297241\n",
      "2500/10000: Loss = 0.07517871622813017 \t Accuracy = 92.48212837718698\n",
      "2600/10000: Loss = 0.06965542428171276 \t Accuracy = 93.03445757182872\n",
      "2700/10000: Loss = 0.06517356855652282 \t Accuracy = 93.48264314434772\n",
      "2800/10000: Loss = 0.0614638365783569 \t Accuracy = 93.85361634216432\n",
      "2900/10000: Loss = 0.058338405213763996 \t Accuracy = 94.1661594786236\n",
      "3000/10000: Loss = 0.055664956687984136 \t Accuracy = 94.43350433120159\n",
      "3100/10000: Loss = 0.053349052717856435 \t Accuracy = 94.66509472821436\n",
      "3200/10000: Loss = 0.051322867917025894 \t Accuracy = 94.86771320829742\n",
      "3300/10000: Loss = 0.04953728565294243 \t Accuracy = 95.04627143470576\n",
      "3400/10000: Loss = 0.0479557037311948 \t Accuracy = 95.20442962688051\n",
      "3500/10000: Loss = 0.04654939128490143 \t Accuracy = 95.34506087150986\n",
      "3600/10000: Loss = 0.0452945645566123 \t Accuracy = 95.47054354433877\n",
      "3700/10000: Loss = 0.0441708842187793 \t Accuracy = 95.58291157812207\n",
      "3800/10000: Loss = 0.043160773429584326 \t Accuracy = 95.68392265704156\n",
      "3900/10000: Loss = 0.04224906553136673 \t Accuracy = 95.77509344686332\n",
      "4000/10000: Loss = 0.041422736312930676 \t Accuracy = 95.85772636870693\n",
      "4100/10000: Loss = 0.040670646265724884 \t Accuracy = 95.93293537342751\n",
      "4200/10000: Loss = 0.03998328889943865 \t Accuracy = 96.00167111005614\n",
      "4300/10000: Loss = 0.03935255657650436 \t Accuracy = 96.06474434234956\n",
      "4400/10000: Loss = 0.03877153199010933 \t Accuracy = 96.12284680098907\n",
      "4500/10000: Loss = 0.03823430762477999 \t Accuracy = 96.176569237522\n",
      "4600/10000: Loss = 0.03773583177502624 \t Accuracy = 96.22641682249737\n",
      "4700/10000: Loss = 0.037271778064702894 \t Accuracy = 96.2728221935297\n",
      "4800/10000: Loss = 0.03683843507442495 \t Accuracy = 96.3161564925575\n",
      "4900/10000: Loss = 0.03643261294376421 \t Accuracy = 96.35673870562358\n",
      "5000/10000: Loss = 0.03605156426275663 \t Accuracy = 96.39484357372434\n",
      "5100/10000: Loss = 0.03569291701604551 \t Accuracy = 96.43070829839544\n",
      "5200/10000: Loss = 0.03535461772712735 \t Accuracy = 96.46453822728726\n",
      "5300/10000: Loss = 0.03503488326006096 \t Accuracy = 96.49651167399391\n",
      "5400/10000: Loss = 0.03473215998241375 \t Accuracy = 96.52678400175863\n",
      "5500/10000: Loss = 0.03444508919098117 \t Accuracy = 96.55549108090187\n",
      "5600/10000: Loss = 0.03417247786372561 \t Accuracy = 96.58275221362744\n",
      "5700/10000: Loss = 0.033913273936767026 \t Accuracy = 96.6086726063233\n",
      "5800/10000: Loss = 0.03366654542042696 \t Accuracy = 96.6333454579573\n",
      "5900/10000: Loss = 0.0334314627674005 \t Accuracy = 96.65685372325996\n",
      "6000/10000: Loss = 0.03320728399181667 \t Accuracy = 96.67927160081832\n",
      "6100/10000: Loss = 0.03299334211214988 \t Accuracy = 96.70066578878502\n",
      "6200/10000: Loss = 0.03278903455507963 \t Accuracy = 96.72109654449204\n",
      "6300/10000: Loss = 0.032593814212654365 \t Accuracy = 96.74061857873455\n",
      "6400/10000: Loss = 0.032407181892516713 \t Accuracy = 96.75928181074833\n",
      "6500/10000: Loss = 0.03222867994144906 \t Accuracy = 96.7771320058551\n",
      "6600/10000: Loss = 0.03205788685695085 \t Accuracy = 96.79421131430492\n",
      "6700/10000: Loss = 0.03189441273077242 \t Accuracy = 96.81055872692276\n",
      "6800/10000: Loss = 0.031737895393015525 \t Accuracy = 96.82621046069845\n",
      "6900/10000: Loss = 0.03158799714621667 \t Accuracy = 96.84120028537833\n",
      "7000/10000: Loss = 0.03144440199634889 \t Accuracy = 96.85555980036511\n",
      "7100/10000: Loss = 0.03130681330238379 \t Accuracy = 96.86931866976161\n",
      "7200/10000: Loss = 0.031174951778418912 \t Accuracy = 96.88250482215811\n",
      "7300/10000: Loss = 0.031048553792743246 \t Accuracy = 96.89514462072567\n",
      "7400/10000: Loss = 0.03092736991693248 \t Accuracy = 96.90726300830676\n",
      "7500/10000: Loss = 0.030811163685377858 \t Accuracy = 96.91888363146222\n",
      "7600/10000: Loss = 0.03069971053181836 \t Accuracy = 96.93002894681817\n",
      "7700/10000: Loss = 0.03059279687462633 \t Accuracy = 96.94072031253737\n",
      "7800/10000: Loss = 0.03049021932697783 \t Accuracy = 96.95097806730222\n",
      "7900/10000: Loss = 0.030391784011734403 \t Accuracy = 96.96082159882657\n",
      "8000/10000: Loss = 0.030297305963994367 \t Accuracy = 96.97026940360057\n",
      "8100/10000: Loss = 0.03020660860692773 \t Accuracy = 96.97933913930723\n",
      "8200/10000: Loss = 0.03011952328876361 \t Accuracy = 96.98804767112364\n",
      "8300/10000: Loss = 0.03003588887071924 \t Accuracy = 96.99641111292807\n",
      "8400/10000: Loss = 0.029955551357292526 \t Accuracy = 97.00444486427074\n",
      "8500/10000: Loss = 0.029878363561734504 \t Accuracy = 97.01216364382655\n",
      "8600/10000: Loss = 0.029804184800705995 \t Accuracy = 97.0195815199294\n",
      "8700/10000: Loss = 0.029732880613134425 \t Accuracy = 97.02671193868656\n",
      "8800/10000: Loss = 0.029664322499150686 \t Accuracy = 97.03356775008494\n",
      "8900/10000: Loss = 0.029598387675717902 \t Accuracy = 97.04016123242822\n",
      "9000/10000: Loss = 0.029534958846188716 \t Accuracy = 97.04650411538113\n",
      "9100/10000: Loss = 0.029473923981551214 \t Accuracy = 97.05260760184487\n",
      "9200/10000: Loss = 0.029415176111570785 \t Accuracy = 97.05848238884293\n",
      "9300/10000: Loss = 0.029358613124403684 \t Accuracy = 97.06413868755963\n",
      "9400/10000: Loss = 0.029304137573570328 \t Accuracy = 97.06958624264297\n",
      "9500/10000: Loss = 0.029251656491431917 \t Accuracy = 97.0748343508568\n",
      "9600/10000: Loss = 0.029201081208523546 \t Accuracy = 97.07989187914765\n",
      "9700/10000: Loss = 0.029152327178267122 \t Accuracy = 97.08476728217329\n",
      "9800/10000: Loss = 0.029105313806726273 \t Accuracy = 97.08946861932736\n",
      "9900/10000: Loss = 0.02905996428716626 \t Accuracy = 97.09400357128337\n",
      "9999/10000: Loss = 0.0290166353856222 \t Accuracy = 97.09833646143778\n"
     ]
    }
   ],
   "source": [
    "history = mlp_training(X,Y, lr = 0.01, epochs = 10000, hidden_dims = [100,100])"
   ]
  },
  {
   "cell_type": "code",
   "execution_count": 62,
   "metadata": {},
   "outputs": [
    {
     "data": {
      "image/png": "[encoded data removed]",
      "text/plain": [
       "<Figure size 432x288 with 1 Axes>"
      ]
     },
     "metadata": {
      "needs_background": "light"
     },
     "output_type": "display_data"
    }
   ],
   "source": [
    "plt.plot(history[0])\n",
    "plt.xlabel(\"Epochs\")\n",
    "plt.ylabel(\"Loss\")\n",
    "plt.show()"
   ]
  },
  {
   "cell_type": "code",
   "execution_count": 63,
   "metadata": {},
   "outputs": [
    {
     "data": {
      "image/png": "[encoded data removed]",
      "text/plain": [
       "<Figure size 432x288 with 1 Axes>"
      ]
     },
     "metadata": {
      "needs_background": "light"
     },
     "output_type": "display_data"
    }
   ],
   "source": [
    "plt.plot(history[1])\n",
    "plt.xlabel(\"Epochs\")\n",
    "plt.ylabel(\"Accuracy\")\n",
    "plt.show()"
   ]
  },
  {
   "cell_type": "code",
   "execution_count": 53,
   "metadata": {},
   "outputs": [
    {
     "name": "stdout",
     "output_type": "stream",
     "text": [
      "Maximum Acccuracy = 97.19843187903973\n"
     ]
    }
   ],
   "source": [
    "print(f\"Maximum Acccuracy = {max(history[1])}\")"
   ]
  },
  {
   "cell_type": "code",
   "execution_count": null,
   "metadata": {},
   "outputs": [],
   "source": []
  }
 ],
 "metadata": {
  "kernelspec": {
   "display_name": "Python 3",
   "language": "python",
   "name": "python3"
  },
  "language_info": {
   "codemirror_mode": {
    "name": "ipython",
    "version": 3
   },
   "file_extension": ".py",
   "mimetype": "text/x-python",
   "name": "python",
   "nbconvert_exporter": "python",
   "pygments_lexer": "ipython3",
   "version": "3.7.6"
  }
 },
 "nbformat": 4,
 "nbformat_minor": 4
}
