{
 "cells": [
  {
   "cell_type": "code",
   "execution_count": 19,
   "metadata": {},
   "outputs": [],
   "source": [
    "import numpy as np\n",
    "import matplotlib.pyplot as plt\n",
    "import pandas as pd"
   ]
  },
  {
   "cell_type": "code",
   "execution_count": 20,
   "metadata": {},
   "outputs": [],
   "source": [
    "df = pd.read_csv('iris.csv')"
   ]
  },
  {
   "cell_type": "code",
   "execution_count": 21,
   "metadata": {},
   "outputs": [
    {
     "data": {
      "text/html": [
       "<div>\n",
       "<style scoped>\n",
       "    .dataframe tbody tr th:only-of-type {\n",
       "        vertical-align: middle;\n",
       "    }\n",
       "\n",
       "    .dataframe tbody tr th {\n",
       "        vertical-align: top;\n",
       "    }\n",
       "\n",
       "    .dataframe thead th {\n",
       "        text-align: right;\n",
       "    }\n",
       "</style>\n",
       "<table border=\"1\" class=\"dataframe\">\n",
       "  <thead>\n",
       "    <tr style=\"text-align: right;\">\n",
       "      <th></th>\n",
       "      <th>sepal.length</th>\n",
       "      <th>sepal.width</th>\n",
       "      <th>petal.length</th>\n",
       "      <th>petal.width</th>\n",
       "      <th>variety</th>\n",
       "    </tr>\n",
       "  </thead>\n",
       "  <tbody>\n",
       "    <tr>\n",
       "      <th>0</th>\n",
       "      <td>5.1</td>\n",
       "      <td>3.5</td>\n",
       "      <td>1.4</td>\n",
       "      <td>0.2</td>\n",
       "      <td>Setosa</td>\n",
       "    </tr>\n",
       "    <tr>\n",
       "      <th>1</th>\n",
       "      <td>4.9</td>\n",
       "      <td>3.0</td>\n",
       "      <td>1.4</td>\n",
       "      <td>0.2</td>\n",
       "      <td>Setosa</td>\n",
       "    </tr>\n",
       "    <tr>\n",
       "      <th>2</th>\n",
       "      <td>4.7</td>\n",
       "      <td>3.2</td>\n",
       "      <td>1.3</td>\n",
       "      <td>0.2</td>\n",
       "      <td>Setosa</td>\n",
       "    </tr>\n",
       "    <tr>\n",
       "      <th>3</th>\n",
       "      <td>4.6</td>\n",
       "      <td>3.1</td>\n",
       "      <td>1.5</td>\n",
       "      <td>0.2</td>\n",
       "      <td>Setosa</td>\n",
       "    </tr>\n",
       "    <tr>\n",
       "      <th>4</th>\n",
       "      <td>5.0</td>\n",
       "      <td>3.6</td>\n",
       "      <td>1.4</td>\n",
       "      <td>0.2</td>\n",
       "      <td>Setosa</td>\n",
       "    </tr>\n",
       "  </tbody>\n",
       "</table>\n",
       "</div>"
      ],
      "text/plain": [
       "   sepal.length  sepal.width  petal.length  petal.width variety\n",
       "0           5.1          3.5           1.4          0.2  Setosa\n",
       "1           4.9          3.0           1.4          0.2  Setosa\n",
       "2           4.7          3.2           1.3          0.2  Setosa\n",
       "3           4.6          3.1           1.5          0.2  Setosa\n",
       "4           5.0          3.6           1.4          0.2  Setosa"
      ]
     },
     "execution_count": 21,
     "metadata": {},
     "output_type": "execute_result"
    }
   ],
   "source": [
    "df.head()"
   ]
  },
  {
   "cell_type": "code",
   "execution_count": 22,
   "metadata": {},
   "outputs": [
    {
     "data": {
      "text/plain": [
       "Index(['sepal.length', 'sepal.width', 'petal.length', 'petal.width',\n",
       "       'variety'],\n",
       "      dtype='object')"
      ]
     },
     "execution_count": 22,
     "metadata": {},
     "output_type": "execute_result"
    }
   ],
   "source": [
    "df.columns"
   ]
  },
  {
   "cell_type": "code",
   "execution_count": 23,
   "metadata": {},
   "outputs": [],
   "source": [
    "X_columns = ['sepal.length', 'sepal.width', 'petal.length', 'petal.width']\n",
    "Y_columns = ['variety']"
   ]
  },
  {
   "cell_type": "code",
   "execution_count": 24,
   "metadata": {},
   "outputs": [
    {
     "data": {
      "text/plain": [
       "array(['Setosa', 'Versicolor', 'Virginica'], dtype=object)"
      ]
     },
     "execution_count": 24,
     "metadata": {},
     "output_type": "execute_result"
    }
   ],
   "source": [
    "df.variety.unique()"
   ]
  },
  {
   "cell_type": "code",
   "execution_count": 25,
   "metadata": {},
   "outputs": [],
   "source": [
    "classes = ['Setosa', 'Versicolor', 'Virginica']"
   ]
  },
  {
   "cell_type": "code",
   "execution_count": 26,
   "metadata": {},
   "outputs": [],
   "source": [
    "df.variety.replace(classes, [0,1,2], inplace = True)"
   ]
  },
  {
   "cell_type": "code",
   "execution_count": 27,
   "metadata": {},
   "outputs": [
    {
     "data": {
      "text/plain": [
       "0      0\n",
       "1      0\n",
       "2      0\n",
       "3      0\n",
       "4      0\n",
       "      ..\n",
       "145    2\n",
       "146    2\n",
       "147    2\n",
       "148    2\n",
       "149    2\n",
       "Name: variety, Length: 150, dtype: int64"
      ]
     },
     "execution_count": 27,
     "metadata": {},
     "output_type": "execute_result"
    }
   ],
   "source": [
    "df.variety"
   ]
  },
  {
   "cell_type": "code",
   "execution_count": 28,
   "metadata": {},
   "outputs": [],
   "source": [
    "def normalization(x, axis = -1, order = 2):\n",
    "    l2 = np.atleast_1d(np.linalg.norm(x,order,axis))\n",
    "    l2[l2 == 0] = 1\n",
    "    return x / np.expand_dims(l2, axis)\n",
    "\n",
    "def one_hot_encoding(y):\n",
    "    columns = np.amax(y) + 1\n",
    "    rows = len(y)\n",
    "    array = np.zeros((rows , columns))\n",
    "    for i in range(rows):\n",
    "        array[i, y[i]] = 1\n",
    "    return array\n",
    "    \n",
    "def sigmoid(x):\n",
    "    return 1 / (1 + np.exp(-x))\n",
    "def sigmoid_derivative(x):\n",
    "    return sigmoid(x) * ( 1 - sigmoid(x))"
   ]
  },
  {
   "cell_type": "code",
   "execution_count": 29,
   "metadata": {},
   "outputs": [
    {
     "data": {
      "text/plain": [
       "array([[0.80377277, 0.55160877, 0.22064351, 0.0315205 ],\n",
       "       [0.82813287, 0.50702013, 0.23660939, 0.03380134],\n",
       "       [0.80533308, 0.54831188, 0.2227517 , 0.03426949],\n",
       "       [0.80003025, 0.53915082, 0.26087943, 0.03478392],\n",
       "       [0.790965  , 0.5694948 , 0.2214702 , 0.0316386 ]])"
      ]
     },
     "execution_count": 29,
     "metadata": {},
     "output_type": "execute_result"
    }
   ],
   "source": [
    "X = pd.DataFrame(df, columns = X_columns)\n",
    "X = X.values\n",
    "X = normalization(X)\n",
    "X[:5]"
   ]
  },
  {
   "cell_type": "code",
   "execution_count": 30,
   "metadata": {},
   "outputs": [
    {
     "data": {
      "text/plain": [
       "array([[1., 0., 0.],\n",
       "       [1., 0., 0.],\n",
       "       [1., 0., 0.],\n",
       "       [1., 0., 0.],\n",
       "       [1., 0., 0.]])"
      ]
     },
     "execution_count": 30,
     "metadata": {},
     "output_type": "execute_result"
    }
   ],
   "source": [
    "Y = pd.DataFrame(df, columns = Y_columns)\n",
    "Y = Y.values\n",
    "Y = Y.flatten()\n",
    "Y = one_hot_encoding(Y)\n",
    "Y[:5]"
   ]
  },
  {
   "cell_type": "code",
   "execution_count": 31,
   "metadata": {},
   "outputs": [],
   "source": [
    "def weight_init(in_channel, out_channel):\n",
    "    return np.random.random((in_channel, out_channel))\n",
    "\n",
    "def calculate_loss(error):\n",
    "    return np.mean(abs(error))"
   ]
  },
  {
   "cell_type": "code",
   "execution_count": 32,
   "metadata": {},
   "outputs": [],
   "source": [
    "def mlp_training(X,Y, lr = 0.1,epochs = 50, hidden_dims = [10,10]):\n",
    "    w0,w1, w2 = weight_init(4,hidden_dims[0]),weight_init(hidden_dims[1],hidden_dims[1]),weight_init(hidden_dims[1],3)\n",
    "    losses, acc = [], []\n",
    "    \n",
    "    for epoch in range(epochs):\n",
    "        \n",
    "        input_layer = X\n",
    "        hidden1 = sigmoid(np.dot(input_layer,w0))\n",
    "        hidden2 = sigmoid(np.dot(hidden1, w1))\n",
    "        output_layer = sigmoid(np.dot(hidden2, w2))\n",
    "        \n",
    "        output_layer_error = Y - output_layer\n",
    "        output_layer_delta = output_layer_error * sigmoid_derivative(output_layer)\n",
    "        \n",
    "        hidden2_error = output_layer_delta.dot(w2.T)\n",
    "        hidden2_delta = hidden2_error * sigmoid_derivative(hidden2)\n",
    "        \n",
    "        hidden1_error = hidden2_delta.dot(w1.T)\n",
    "        hidden1_delta = hidden1_error * sigmoid_derivative(hidden1)\n",
    "        \n",
    "        w2 += hidden2.T.dot(output_layer_delta) * lr\n",
    "        w1 += hidden1.T.dot(hidden2_delta) * lr\n",
    "        w0 += input_layer.T.dot(hidden1_delta) * lr\n",
    "    \n",
    "        loss = np.mean(abs(output_layer_error))\n",
    "        accuracy = (1 - loss) * 100\n",
    "        losses.append(loss)\n",
    "        acc.append(accuracy)\n",
    "        if epoch % 100 == 0:\n",
    "            print(f\"{epoch}/{epochs}: Loss = {loss} \\t Accuracy = {accuracy}\")\n",
    "    print(f\"{epoch}/{epochs}: Loss = {loss} \\t Accuracy = {accuracy}\")\n",
    "    return [losses, acc]\n",
    "        "
   ]
  },
  {
   "cell_type": "code",
   "execution_count": null,
   "metadata": {},
   "outputs": [
    {
     "name": "stdout",
     "output_type": "stream",
     "text": [
      "0/10000000000000000000000000: Loss = 0.6666666666666666 \t Accuracy = 33.333333333333336\n",
      "100/10000000000000000000000000: Loss = 0.5195985195617074 \t Accuracy = 48.040148043829255\n",
      "200/10000000000000000000000000: Loss = 0.4709504783909953 \t Accuracy = 52.90495216090048\n",
      "300/10000000000000000000000000: Loss = 0.4643683816473083 \t Accuracy = 53.56316183526917\n",
      "400/10000000000000000000000000: Loss = 0.4611280105163413 \t Accuracy = 53.887198948365864\n",
      "500/10000000000000000000000000: Loss = 0.4591904112794557 \t Accuracy = 54.08095887205443\n",
      "600/10000000000000000000000000: Loss = 0.45789457749813606 \t Accuracy = 54.2105422501864\n",
      "700/10000000000000000000000000: Loss = 0.4569607567487066 \t Accuracy = 54.30392432512934\n",
      "800/10000000000000000000000000: Loss = 0.45624559174434764 \t Accuracy = 54.375440825565235\n",
      "900/10000000000000000000000000: Loss = 0.45566139474038964 \t Accuracy = 54.433860525961045\n",
      "1000/10000000000000000000000000: Loss = 0.455140216242277 \t Accuracy = 54.48597837577229\n",
      "1100/10000000000000000000000000: Loss = 0.45460726559918324 \t Accuracy = 54.53927344008167\n",
      "1200/10000000000000000000000000: Loss = 0.4539398934607931 \t Accuracy = 54.60601065392069\n",
      "1300/10000000000000000000000000: Loss = 0.45286068128625495 \t Accuracy = 54.7139318713745\n",
      "1400/10000000000000000000000000: Loss = 0.4505700011720717 \t Accuracy = 54.94299988279283\n",
      "1500/10000000000000000000000000: Loss = 0.4441897789927027 \t Accuracy = 55.581022100729726\n",
      "1600/10000000000000000000000000: Loss = 0.4210428366763004 \t Accuracy = 57.895716332369965\n",
      "1700/10000000000000000000000000: Loss = 0.35308963770606255 \t Accuracy = 64.69103622939375\n",
      "1800/10000000000000000000000000: Loss = 0.30117572875977006 \t Accuracy = 69.882427124023\n",
      "1900/10000000000000000000000000: Loss = 0.2626215322497276 \t Accuracy = 73.73784677502724\n",
      "2000/10000000000000000000000000: Loss = 0.2362608656000322 \t Accuracy = 76.37391343999678\n",
      "2100/10000000000000000000000000: Loss = 0.21406446092735454 \t Accuracy = 78.59355390726455\n",
      "2200/10000000000000000000000000: Loss = 0.1917151494694326 \t Accuracy = 80.82848505305674\n",
      "2300/10000000000000000000000000: Loss = 0.16879975291944202 \t Accuracy = 83.1200247080558\n",
      "2400/10000000000000000000000000: Loss = 0.1474475562291798 \t Accuracy = 85.25524437708202\n",
      "2500/10000000000000000000000000: Loss = 0.12894477220810874 \t Accuracy = 87.10552277918913\n",
      "2600/10000000000000000000000000: Loss = 0.11355049660200921 \t Accuracy = 88.64495033979908\n",
      "2700/10000000000000000000000000: Loss = 0.10093440779047205 \t Accuracy = 89.9065592209528\n",
      "2800/10000000000000000000000000: Loss = 0.09065346372817905 \t Accuracy = 90.93465362718209\n",
      "2900/10000000000000000000000000: Loss = 0.08233144160240201 \t Accuracy = 91.7668558397598\n",
      "3000/10000000000000000000000000: Loss = 0.07562864125419227 \t Accuracy = 92.43713587458078\n",
      "3100/10000000000000000000000000: Loss = 0.07022653533686644 \t Accuracy = 92.97734646631336\n",
      "3200/10000000000000000000000000: Loss = 0.06583930231758452 \t Accuracy = 93.41606976824156\n",
      "3300/10000000000000000000000000: Loss = 0.06222926121409965 \t Accuracy = 93.77707387859003\n",
      "3400/10000000000000000000000000: Loss = 0.059215082504014235 \t Accuracy = 94.07849174959858\n",
      "3500/10000000000000000000000000: Loss = 0.05666530718198585 \t Accuracy = 94.33346928180141\n",
      "3600/10000000000000000000000000: Loss = 0.05448230757217997 \t Accuracy = 94.551769242782\n",
      "3700/10000000000000000000000000: Loss = 0.05258850802230361 \t Accuracy = 94.74114919776963\n",
      "3800/10000000000000000000000000: Loss = 0.050920179060660126 \t Accuracy = 94.90798209393398\n",
      "3900/10000000000000000000000000: Loss = 0.049427421359851634 \t Accuracy = 95.05725786401483\n",
      "4000/10000000000000000000000000: Loss = 0.04807536383210586 \t Accuracy = 95.19246361678941\n",
      "4100/10000000000000000000000000: Loss = 0.04684209649209264 \t Accuracy = 95.31579035079073\n",
      "4200/10000000000000000000000000: Loss = 0.04571372663899745 \t Accuracy = 95.42862733610026\n",
      "4300/10000000000000000000000000: Loss = 0.0446798621610119 \t Accuracy = 95.5320137838988\n",
      "4400/10000000000000000000000000: Loss = 0.0437312346720357 \t Accuracy = 95.62687653279643\n",
      "4500/10000000000000000000000000: Loss = 0.04285903817170463 \t Accuracy = 95.71409618282954\n",
      "4600/10000000000000000000000000: Loss = 0.042055030626610895 \t Accuracy = 95.79449693733892\n",
      "4700/10000000000000000000000000: Loss = 0.04131177819866135 \t Accuracy = 95.86882218013386\n",
      "4800/10000000000000000000000000: Loss = 0.040622792235283166 \t Accuracy = 95.93772077647168\n",
      "4900/10000000000000000000000000: Loss = 0.03998251789384244 \t Accuracy = 96.00174821061576\n",
      "5000/10000000000000000000000000: Loss = 0.039386219552991326 \t Accuracy = 96.06137804470086\n",
      "5100/10000000000000000000000000: Loss = 0.038829825806986885 \t Accuracy = 96.1170174193013\n",
      "5200/10000000000000000000000000: Loss = 0.03830978154605474 \t Accuracy = 96.16902184539452\n",
      "5300/10000000000000000000000000: Loss = 0.037822930481554475 \t Accuracy = 96.21770695184455\n",
      "5400/10000000000000000000000000: Loss = 0.03736643225855019 \t Accuracy = 96.26335677414498\n",
      "5500/10000000000000000000000000: Loss = 0.036937708130933375 \t Accuracy = 96.30622918690666\n",
      "5600/10000000000000000000000000: Loss = 0.03653440629767393 \t Accuracy = 96.34655937023261\n",
      "5700/10000000000000000000000000: Loss = 0.036154379035854535 \t Accuracy = 96.38456209641456\n",
      "5800/10000000000000000000000000: Loss = 0.03579566607942782 \t Accuracy = 96.42043339205722\n",
      "5900/10000000000000000000000000: Loss = 0.03545648089271819 \t Accuracy = 96.45435191072818\n",
      "6000/10000000000000000000000000: Loss = 0.03513519809736393 \t Accuracy = 96.4864801902636\n",
      "6100/10000000000000000000000000: Loss = 0.03483034131650598 \t Accuracy = 96.5169658683494\n",
      "6200/10000000000000000000000000: Loss = 0.034540571247889854 \t Accuracy = 96.54594287521101\n",
      "6300/10000000000000000000000000: Loss = 0.034264674030325584 \t Accuracy = 96.57353259696744\n",
      "6400/10000000000000000000000000: Loss = 0.03400155005192842 \t Accuracy = 96.59984499480716\n",
      "6500/10000000000000000000000000: Loss = 0.03375020334737402 \t Accuracy = 96.6249796652626\n",
      "6600/10000000000000000000000000: Loss = 0.03350973169472885 \t Accuracy = 96.64902683052712\n",
      "6700/10000000000000000000000000: Loss = 0.033279317476986495 \t Accuracy = 96.67206825230134\n",
      "6800/10000000000000000000000000: Loss = 0.033058219331914426 \t Accuracy = 96.69417806680856\n",
      "6900/10000000000000000000000000: Loss = 0.03284576458101235 \t Accuracy = 96.71542354189877\n",
      "7000/10000000000000000000000000: Loss = 0.03264134240503351 \t Accuracy = 96.73586575949665\n",
      "7100/10000000000000000000000000: Loss = 0.03244439771857145 \t Accuracy = 96.75556022814285\n",
      "7200/10000000000000000000000000: Loss = 0.032254425687943684 \t Accuracy = 96.77455743120564\n",
      "7300/10000000000000000000000000: Loss = 0.03207096683331265 \t Accuracy = 96.79290331666873\n",
      "7400/10000000000000000000000000: Loss = 0.03189360265613055 \t Accuracy = 96.81063973438695\n",
      "7500/10000000000000000000000000: Loss = 0.03172195173541723 \t Accuracy = 96.82780482645828\n",
      "7600/10000000000000000000000000: Loss = 0.03155566624014764 \t Accuracy = 96.84443337598523\n",
      "7700/10000000000000000000000000: Loss = 0.031394428809495334 \t Accuracy = 96.86055711905045\n",
      "7800/10000000000000000000000000: Loss = 0.03123794975742106 \t Accuracy = 96.87620502425789\n",
      "7900/10000000000000000000000000: Loss = 0.03108596456277763 \t Accuracy = 96.89140354372223\n",
      "8000/10000000000000000000000000: Loss = 0.03093823161059197 \t Accuracy = 96.90617683894081\n",
      "8100/10000000000000000000000000: Loss = 0.03079453015433135 \t Accuracy = 96.92054698456687\n",
      "8200/10000000000000000000000000: Loss = 0.030654658472750104 \t Accuracy = 96.93453415272499\n",
      "8300/10000000000000000000000000: Loss = 0.030518432198311525 \t Accuracy = 96.94815678016884\n",
      "8400/10000000000000000000000000: Loss = 0.030385682797201684 \t Accuracy = 96.96143172027983\n",
      "8500/10000000000000000000000000: Loss = 0.030256256183616853 \t Accuracy = 96.97437438163831\n",
      "8600/10000000000000000000000000: Loss = 0.030130011453346043 \t Accuracy = 96.9869988546654\n",
      "8700/10000000000000000000000000: Loss = 0.03000681972371027 \t Accuracy = 96.99931802762897\n",
      "8800/10000000000000000000000000: Loss = 0.029886563068695075 \t Accuracy = 97.0113436931305\n",
      "8900/10000000000000000000000000: Loss = 0.02976913353964664 \t Accuracy = 97.02308664603534\n",
      "9000/10000000000000000000000000: Loss = 0.029654432263234352 \t Accuracy = 97.03455677367656\n",
      "9100/10000000000000000000000000: Loss = 0.02954236860951679 \t Accuracy = 97.04576313904832\n"
     ]
    },
    {
     "name": "stdout",
     "output_type": "stream",
     "text": [
      "9200/10000000000000000000000000: Loss = 0.02943285942393562 \t Accuracy = 97.05671405760644\n",
      "9300/10000000000000000000000000: Loss = 0.02932582831788956 \t Accuracy = 97.06741716821105\n",
      "9400/10000000000000000000000000: Loss = 0.029221205013255924 \t Accuracy = 97.0778794986744\n",
      "9500/10000000000000000000000000: Loss = 0.029118924736829213 \t Accuracy = 97.08810752631707\n",
      "9600/10000000000000000000000000: Loss = 0.029018927661143012 \t Accuracy = 97.0981072338857\n",
      "9700/10000000000000000000000000: Loss = 0.02892115838857336 \t Accuracy = 97.10788416114266\n",
      "9800/10000000000000000000000000: Loss = 0.028825565475961826 \t Accuracy = 97.11744345240382\n",
      "9900/10000000000000000000000000: Loss = 0.0287321009972875 \t Accuracy = 97.12678990027125\n",
      "10000/10000000000000000000000000: Loss = 0.02864072014214917 \t Accuracy = 97.13592798578509\n",
      "10100/10000000000000000000000000: Loss = 0.02855138084800625 \t Accuracy = 97.14486191519937\n",
      "10200/10000000000000000000000000: Loss = 0.028464043464278194 \t Accuracy = 97.15359565357218\n",
      "10300/10000000000000000000000000: Loss = 0.02837867044652022 \t Accuracy = 97.16213295534799\n",
      "10400/10000000000000000000000000: Loss = 0.02829522607898236 \t Accuracy = 97.17047739210176\n",
      "10500/10000000000000000000000000: Loss = 0.02821367622394346 \t Accuracy = 97.17863237760565\n",
      "10600/10000000000000000000000000: Loss = 0.02813398809625318 \t Accuracy = 97.18660119037467\n",
      "10700/10000000000000000000000000: Loss = 0.028056130061576482 \t Accuracy = 97.19438699384236\n",
      "10800/10000000000000000000000000: Loss = 0.027980071456864417 \t Accuracy = 97.20199285431356\n",
      "10900/10000000000000000000000000: Loss = 0.02790578243161246 \t Accuracy = 97.20942175683875\n",
      "11000/10000000000000000000000000: Loss = 0.027833233808498316 \t Accuracy = 97.21667661915016\n",
      "11100/10000000000000000000000000: Loss = 0.027762396962021606 \t Accuracy = 97.22376030379783\n",
      "11200/10000000000000000000000000: Loss = 0.027693243713802322 \t Accuracy = 97.23067562861976\n",
      "11300/10000000000000000000000000: Loss = 0.027625746243224218 \t Accuracy = 97.23742537567757\n",
      "11400/10000000000000000000000000: Loss = 0.02755987701215255 \t Accuracy = 97.24401229878474\n",
      "11500/10000000000000000000000000: Loss = 0.02749560870249317 \t Accuracy = 97.25043912975069\n",
      "11600/10000000000000000000000000: Loss = 0.02743291416540444 \t Accuracy = 97.25670858345956\n",
      "11700/10000000000000000000000000: Loss = 0.027371766381022903 \t Accuracy = 97.26282336189772\n",
      "11800/10000000000000000000000000: Loss = 0.027312138427613184 \t Accuracy = 97.26878615723868\n",
      "11900/10000000000000000000000000: Loss = 0.027254003459109107 \t Accuracy = 97.27459965408909\n",
      "12000/10000000000000000000000000: Loss = 0.02719733469006782 \t Accuracy = 97.28026653099322\n",
      "12100/10000000000000000000000000: Loss = 0.02714210538711797 \t Accuracy = 97.2857894612882\n",
      "12200/10000000000000000000000000: Loss = 0.027088288866043458 \t Accuracy = 97.29117111339566\n",
      "12300/10000000000000000000000000: Loss = 0.02703585849370308 \t Accuracy = 97.2964141506297\n",
      "12400/10000000000000000000000000: Loss = 0.026984787694050077 \t Accuracy = 97.30152123059499\n",
      "12500/10000000000000000000000000: Loss = 0.026935049957571604 \t Accuracy = 97.30649500424285\n",
      "12600/10000000000000000000000000: Loss = 0.02688661885352911 \t Accuracy = 97.3113381146471\n",
      "12700/10000000000000000000000000: Loss = 0.026839468044441192 \t Accuracy = 97.31605319555588\n",
      "12800/10000000000000000000000000: Loss = 0.026793571302298445 \t Accuracy = 97.32064286977015\n",
      "12900/10000000000000000000000000: Loss = 0.026748902526060516 \t Accuracy = 97.32510974739395\n",
      "13000/10000000000000000000000000: Loss = 0.02670543576003298 \t Accuracy = 97.3294564239967\n",
      "13100/10000000000000000000000000: Loss = 0.026663145212767428 \t Accuracy = 97.33368547872325\n",
      "13200/10000000000000000000000000: Loss = 0.02662200527617771 \t Accuracy = 97.33779947238223\n",
      "13300/10000000000000000000000000: Loss = 0.026581990544603844 \t Accuracy = 97.34180094553962\n",
      "13400/10000000000000000000000000: Loss = 0.026543075833593444 \t Accuracy = 97.34569241664066\n",
      "13500/10000000000000000000000000: Loss = 0.02650523619820771 \t Accuracy = 97.34947638017924\n",
      "13600/10000000000000000000000000: Loss = 0.026468446950691657 \t Accuracy = 97.35315530493084\n",
      "13700/10000000000000000000000000: Loss = 0.0264326836773751 \t Accuracy = 97.3567316322625\n",
      "13800/10000000000000000000000000: Loss = 0.026397922254700466 \t Accuracy = 97.36020777452995\n",
      "13900/10000000000000000000000000: Loss = 0.026364138864295575 \t Accuracy = 97.36358611357045\n",
      "14000/10000000000000000000000000: Loss = 0.026331310007030175 \t Accuracy = 97.36686899929698\n",
      "14100/10000000000000000000000000: Loss = 0.02629941251601494 \t Accuracy = 97.3700587483985\n",
      "14200/10000000000000000000000000: Loss = 0.026268423568517527 \t Accuracy = 97.37315764314825\n",
      "14300/10000000000000000000000000: Loss = 0.026238320696781996 \t Accuracy = 97.3761679303218\n",
      "14400/10000000000000000000000000: Loss = 0.026209081797754975 \t Accuracy = 97.3790918202245\n",
      "14500/10000000000000000000000000: Loss = 0.02618068514172621 \t Accuracy = 97.38193148582738\n"
     ]
    }
   ],
   "source": [
    "history = mlp_training(X,Y, lr = 0.01, epochs = 10000000000000000000000000, hidden_dims = [100,100])"
   ]
  },
  {
   "cell_type": "code",
   "execution_count": 41,
   "metadata": {},
   "outputs": [
    {
     "data": {
      "image/png": "[encoded data removed]",
      "text/plain": [
       "<Figure size 432x288 with 1 Axes>"
      ]
     },
     "metadata": {
      "needs_background": "light"
     },
     "output_type": "display_data"
    }
   ],
   "source": [
    "plt.plot(history[0])\n",
    "plt.xlabel(\"Epochs\")\n",
    "plt.ylabel(\"Loss\")\n",
    "plt.show()"
   ]
  },
  {
   "cell_type": "code",
   "execution_count": 42,
   "metadata": {},
   "outputs": [
    {
     "data": {
      "image/png": "[encoded data removed]",
      "text/plain": [
       "<Figure size 432x288 with 1 Axes>"
      ]
     },
     "metadata": {
      "needs_background": "light"
     },
     "output_type": "display_data"
    }
   ],
   "source": [
    "plt.plot(history[1])\n",
    "plt.xlabel(\"Epochs\")\n",
    "plt.ylabel(\"Accuracy\")\n",
    "plt.show()"
   ]
  },
  {
   "cell_type": "code",
   "execution_count": 36,
   "metadata": {},
   "outputs": [
    {
     "name": "stdout",
     "output_type": "stream",
     "text": [
      "Maximum Acccuracy = 81.09714825133068\n"
     ]
    }
   ],
   "source": [
    "print(f\"Maximum Acccuracy = {max(history[1])}\")"
   ]
  },
  {
   "cell_type": "code",
   "execution_count": null,
   "metadata": {},
   "outputs": [],
   "source": []
  },
  {
   "cell_type": "code",
   "execution_count": null,
   "metadata": {},
   "outputs": [],
   "source": []
  }
 ],
 "metadata": {
  "kernelspec": {
   "display_name": "Python 3",
   "language": "python",
   "name": "python3"
  },
  "language_info": {
   "codemirror_mode": {
    "name": "ipython",
    "version": 3
   },
   "file_extension": ".py",
   "mimetype": "text/x-python",
   "name": "python",
   "nbconvert_exporter": "python",
   "pygments_lexer": "ipython3",
   "version": "3.7.6"
  }
 },
 "nbformat": 4,
 "nbformat_minor": 4
}
