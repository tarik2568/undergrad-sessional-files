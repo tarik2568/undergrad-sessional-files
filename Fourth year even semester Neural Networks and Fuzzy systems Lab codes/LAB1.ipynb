{
  "cells": [
    {
      "cell_type": "markdown",
      "source": [
        "## Importing Necessary Libraries"
      ],
      "metadata": {
        "id": "2eCYJtTCesBs"
      }
    },
    {
      "cell_type": "code",
      "execution_count": null,
      "metadata": {
        "id": "qzDrGsEGTcvw"
      },
      "outputs": [],
      "source": [
        "import numpy as np\n",
        "import pandas as pd\n",
        "import matplotlib.pyplot as plt"
      ]
    },
    {
      "cell_type": "markdown",
      "source": [
        "## Creating Input and Output Data for AND, OR, XOR Gate"
      ],
      "metadata": {
        "id": "jXdnl67ve48u"
      }
    },
    {
      "cell_type": "code",
      "execution_count": null,
      "metadata": {
        "id": "iQ5jEGlZTcvy"
      },
      "outputs": [],
      "source": [
        "X_AND = np.array([[0, 0], [0, 1], [1, 0], [1, 1]])\n",
        "Y_AND = np.array([0, 0, 0, 1])\n",
        "\n",
        "\n",
        "X_OR = np.array([[0, 0], [0, 1], [1, 0], [1, 1]])\n",
        "Y_OR = np.array([0, 1, 1, 1])\n",
        "\n",
        "X_XOR = np.array([[0, 0], [0, 1], [1, 0], [1, 1]])\n",
        "Y_XOR = np.array([0, 1, 1, 0])\n"
      ]
    },
    {
      "cell_type": "markdown",
      "source": [
        "## Sigmoid Activation Functions"
      ],
      "metadata": {
        "id": "zp9PVitzfDPr"
      }
    },
    {
      "cell_type": "code",
      "execution_count": null,
      "metadata": {
        "id": "pw0mvAH0Tcv0"
      },
      "outputs": [],
      "source": [
        "def sigmoid(z):\n",
        "    return 1 / (1 + np.exp(-z))\n",
        "def derivative_sigmoid(x):\n",
        "    return x*(1-x)"
      ]
    },
    {
      "cell_type": "markdown",
      "source": [
        "## Crossentropy Loss Functions"
      ],
      "metadata": {
        "id": "FXxYwl-JfIlF"
      }
    },
    {
      "cell_type": "code",
      "execution_count": null,
      "metadata": {
        "id": "UlcOrfuHTcv1"
      },
      "outputs": [],
      "source": [
        "def Cross_Entropy(y_hat, y):\n",
        "    if y == 1:\n",
        "      return -np.log(y_hat)\n",
        "    else:\n",
        "      return -np.log(1 - y_hat)\n",
        "def derivative_Cross_Entropy(y_hat, y):\n",
        "    if y == 1:\n",
        "      return -1/y_hat\n",
        "    else:\n",
        "      return 1 / (1 - y_hat)"
      ]
    },
    {
      "cell_type": "markdown",
      "source": [
        "## Function to plot results"
      ],
      "metadata": {
        "id": "8WK7roQ4fn2o"
      }
    },
    {
      "cell_type": "code",
      "source": [
        "def plot(data,label, c):\n",
        "    plt.figure()\n",
        "    plt.grid()\n",
        "    plt.xlabel(\"Epochs During Training\")\n",
        "    plt.ylabel(label)\n",
        "    plt.plot(data, c=c)\n",
        "    plt.show()"
      ],
      "metadata": {
        "id": "awOYJGetfmrn"
      },
      "execution_count": null,
      "outputs": []
    },
    {
      "cell_type": "markdown",
      "source": [
        "## Perceptron Training Function"
      ],
      "metadata": {
        "id": "uMTvUo_nfWpZ"
      }
    },
    {
      "cell_type": "code",
      "execution_count": null,
      "metadata": {
        "id": "NQEnL7HXTcv3"
      },
      "outputs": [],
      "source": [
        "def train_perceptron(X, Y,epochs = 10000, learning_rate = 0.1):\n",
        "    W_2 = np.random.uniform(low=0, high=1, size=(1,))\n",
        "    W_1 = np.random.uniform(low=0, high=1, size=(1,))\n",
        "    bias = np.random.uniform(low=0, high=1, size=(1,))\n",
        "    error = []\n",
        "    accuracies = []\n",
        "    for ep in range(epochs):\n",
        "        random_index = np.arange(X.shape[0])\n",
        "        np.random.shuffle(random_index)\n",
        "        e = []\n",
        "        a = []\n",
        "        for i in random_index:\n",
        "            x = X[i]\n",
        "            Z = W_1 * x[0] + W_2 * x[1] + bias\n",
        "            Y_hat = sigmoid(Z)\n",
        "            err = Cross_Entropy(Y_hat, Y[i])\n",
        "            e.append(err)\n",
        "            dEdW_2 = derivative_Cross_Entropy(Y_hat, Y[i])*derivative_sigmoid(Y_hat)*x[1]\n",
        "            dEdW_1 = derivative_Cross_Entropy(Y_hat, Y[i]) * derivative_sigmoid(Y_hat) * x[0]\n",
        "            dEdW_0 = derivative_Cross_Entropy(Y_hat, Y[i])*derivative_sigmoid(Y_hat)\n",
        "            bias = bias - learning_rate * dEdW_0\n",
        "            W_1 = W_1 - learning_rate*dEdW_1\n",
        "            W_2 = W_2 - learning_rate * dEdW_2\n",
        "        error.append(np.mean(e))\n",
        "        accuracies.append((1 - np.mean(e) )* 100)\n",
        "        \n",
        "        if (ep+1) % 500 == 0:\n",
        "            print(f\"Epoch {ep + 1}\\t    Loss: {error[-1]:.2f} ------- Accuracy: {accuracies[-1]:.2f}\")\n",
        "    return error, accuracies\n"
      ]
    },
    {
      "cell_type": "markdown",
      "source": [
        "## Training of AND Logic Gate"
      ],
      "metadata": {
        "id": "-ZbYd2J0gCfS"
      }
    },
    {
      "cell_type": "code",
      "execution_count": null,
      "metadata": {
        "colab": {
          "base_uri": "https://localhost:8080/"
        },
        "id": "p8BGAWMpTcv4",
        "outputId": "18320c7e-4a8a-4575-a5aa-58f8a3a21c8f"
      },
      "outputs": [
        {
          "output_type": "stream",
          "name": "stdout",
          "text": [
            "Epoch 500\t    Loss: 0.08 ------- Accuracy: 91.86\n",
            "Epoch 1000\t    Loss: 0.04 ------- Accuracy: 95.72\n",
            "Epoch 1500\t    Loss: 0.03 ------- Accuracy: 97.12\n",
            "Epoch 2000\t    Loss: 0.02 ------- Accuracy: 97.83\n",
            "Epoch 2500\t    Loss: 0.02 ------- Accuracy: 98.26\n",
            "Epoch 3000\t    Loss: 0.01 ------- Accuracy: 98.55\n",
            "Epoch 3500\t    Loss: 0.01 ------- Accuracy: 98.76\n",
            "Epoch 4000\t    Loss: 0.01 ------- Accuracy: 98.92\n"
          ]
        }
      ],
      "source": [
        "loss, accuracies = train_perceptron(X = X_AND, Y= Y_AND, epochs = 4000, learning_rate = 0.1)"
      ]
    },
    {
      "cell_type": "markdown",
      "source": [
        "## Results on AND Logic Gate"
      ],
      "metadata": {
        "id": "tiSe9OCQi-mv"
      }
    },
    {
      "cell_type": "code",
      "source": [
        "plot(loss,'Loss on AND Gate', c = 'r')"
      ],
      "metadata": {
        "colab": {
          "base_uri": "https://localhost:8080/",
          "height": 279
        },
        "id": "AYBAAWg9iqFI",
        "outputId": "2742ba53-faa9-4bb8-e26e-ff7ba813e262"
      },
      "execution_count": null,
      "outputs": [
        {
          "output_type": "display_data",
          "data": {
            "text/plain": [
              "<Figure size 432x288 with 1 Axes>"
            ],
            "image/png": "[encoded data removed]"
          },
          "metadata": {
            "needs_background": "light"
          }
        }
      ]
    },
    {
      "cell_type": "code",
      "source": [
        "plot(accuracies,'Accuracies on AND Gate', c = 'b')"
      ],
      "metadata": {
        "colab": {
          "base_uri": "https://localhost:8080/",
          "height": 279
        },
        "id": "Bi8D71LWi3Fb",
        "outputId": "26d9d7fa-6a3c-43c0-b218-a5016674d7de"
      },
      "execution_count": null,
      "outputs": [
        {
          "output_type": "display_data",
          "data": {
            "text/plain": [
              "<Figure size 432x288 with 1 Axes>"
            ],
            "image/png": "[encoded data removed]"
          },
          "metadata": {
            "needs_background": "light"
          }
        }
      ]
    },
    {
      "cell_type": "markdown",
      "source": [
        "## Training of OR Logic Gate"
      ],
      "metadata": {
        "id": "bqYX99ZGjFik"
      }
    },
    {
      "cell_type": "code",
      "execution_count": null,
      "metadata": {
        "colab": {
          "base_uri": "https://localhost:8080/"
        },
        "id": "geENUUF4Tcv6",
        "outputId": "006d53a4-9f49-4ac7-b1d6-ad3d8c3e2ae1"
      },
      "outputs": [
        {
          "output_type": "stream",
          "name": "stdout",
          "text": [
            "Epoch 500\t    Loss: 0.05 ------- Accuracy: 95.30\n",
            "Epoch 1000\t    Loss: 0.02 ------- Accuracy: 97.64\n",
            "Epoch 1500\t    Loss: 0.02 ------- Accuracy: 98.44\n",
            "Epoch 2000\t    Loss: 0.01 ------- Accuracy: 98.83\n",
            "Epoch 2500\t    Loss: 0.01 ------- Accuracy: 99.07\n",
            "Epoch 3000\t    Loss: 0.01 ------- Accuracy: 99.23\n",
            "Epoch 3500\t    Loss: 0.01 ------- Accuracy: 99.34\n",
            "Epoch 4000\t    Loss: 0.01 ------- Accuracy: 99.42\n"
          ]
        }
      ],
      "source": [
        "loss, accuracies = train_perceptron(X=X_OR, Y=Y_OR, epochs=4000, learning_rate=0.1)"
      ]
    },
    {
      "cell_type": "markdown",
      "source": [
        "## Results on OR Logic Gate"
      ],
      "metadata": {
        "id": "qdtQLNkqjYEp"
      }
    },
    {
      "cell_type": "code",
      "source": [
        "plot(loss,'Loss on OR Gate', c = 'r')"
      ],
      "metadata": {
        "colab": {
          "base_uri": "https://localhost:8080/",
          "height": 279
        },
        "id": "sM-Vhfi1jJaQ",
        "outputId": "5d84f927-b367-4040-966a-7092bb06045c"
      },
      "execution_count": null,
      "outputs": [
        {
          "output_type": "display_data",
          "data": {
            "text/plain": [
              "<Figure size 432x288 with 1 Axes>"
            ],
            "image/png": "[encoded data removed]"
          },
          "metadata": {
            "needs_background": "light"
          }
        }
      ]
    },
    {
      "cell_type": "code",
      "source": [
        "plot(accuracies,'Accuracies on OR Gate', c = 'b')"
      ],
      "metadata": {
        "colab": {
          "base_uri": "https://localhost:8080/",
          "height": 279
        },
        "id": "Wyda4CJkjJfr",
        "outputId": "f30ec289-bf09-4e9b-fa7f-68626a1f4002"
      },
      "execution_count": null,
      "outputs": [
        {
          "output_type": "display_data",
          "data": {
            "text/plain": [
              "<Figure size 432x288 with 1 Axes>"
            ],
            "image/png": "[encoded data removed]"
          },
          "metadata": {
            "needs_background": "light"
          }
        }
      ]
    },
    {
      "cell_type": "markdown",
      "source": [
        "## Training of XOR Logic Gate"
      ],
      "metadata": {
        "id": "j9SeAaZ5jf9d"
      }
    },
    {
      "cell_type": "code",
      "execution_count": null,
      "metadata": {
        "colab": {
          "base_uri": "https://localhost:8080/"
        },
        "id": "Urkbzu3HTcv7",
        "outputId": "11ff792e-8aaa-450a-e508-ff299c328abe"
      },
      "outputs": [
        {
          "output_type": "stream",
          "name": "stdout",
          "text": [
            "Epoch 500\t    Loss: 0.72 ------- Accuracy: 28.17\n",
            "Epoch 1000\t    Loss: 0.72 ------- Accuracy: 28.20\n",
            "Epoch 1500\t    Loss: 0.72 ------- Accuracy: 28.20\n",
            "Epoch 2000\t    Loss: 0.72 ------- Accuracy: 28.13\n",
            "Epoch 2500\t    Loss: 0.72 ------- Accuracy: 28.12\n",
            "Epoch 3000\t    Loss: 0.72 ------- Accuracy: 28.10\n",
            "Epoch 3500\t    Loss: 0.72 ------- Accuracy: 28.17\n",
            "Epoch 4000\t    Loss: 0.72 ------- Accuracy: 28.10\n"
          ]
        }
      ],
      "source": [
        "loss, accuracies = train_perceptron(X=X_XOR, Y=Y_XOR, epochs=4000, learning_rate=0.1)"
      ]
    },
    {
      "cell_type": "markdown",
      "source": [
        "## Results on XOR Logic Gate"
      ],
      "metadata": {
        "id": "BiJ13ajpjm6T"
      }
    },
    {
      "cell_type": "code",
      "execution_count": null,
      "metadata": {
        "colab": {
          "base_uri": "https://localhost:8080/",
          "height": 279
        },
        "id": "hzRYnZd3Tcv8",
        "outputId": "046c9672-1567-43d0-84ee-22616b903f35"
      },
      "outputs": [
        {
          "output_type": "display_data",
          "data": {
            "text/plain": [
              "<Figure size 432x288 with 1 Axes>"
            ],
            "image/png": "[encoded data removed]"
          },
          "metadata": {
            "needs_background": "light"
          }
        }
      ],
      "source": [
        "plot(loss,'Loss on XOR Gate', c = 'r')"
      ]
    },
    {
      "cell_type": "code",
      "source": [
        "plot(accuracies,'Accuracies on XOR Gate', c = 'b')"
      ],
      "metadata": {
        "colab": {
          "base_uri": "https://localhost:8080/",
          "height": 279
        },
        "id": "qIJGU8-RjslI",
        "outputId": "ed504a17-fc89-4354-b9aa-005578620b9e"
      },
      "execution_count": null,
      "outputs": [
        {
          "output_type": "display_data",
          "data": {
            "text/plain": [
              "<Figure size 432x288 with 1 Axes>"
            ],
            "image/png": "[encoded data removed]"
          },
          "metadata": {
            "needs_background": "light"
          }
        }
      ]
    },
    {
      "cell_type": "code",
      "source": [],
      "metadata": {
        "id": "xnGFecZDjuJ-"
      },
      "execution_count": null,
      "outputs": []
    }
  ],
  "metadata": {
    "kernelspec": {
      "display_name": "Python 3.9.13 64-bit (microsoft store)",
      "language": "python",
      "name": "python3"
    },
    "language_info": {
      "codemirror_mode": {
        "name": "ipython",
        "version": 3
      },
      "file_extension": ".py",
      "mimetype": "text/x-python",
      "name": "python",
      "nbconvert_exporter": "python",
      "pygments_lexer": "ipython3",
      "version": "3.9.13"
    },
    "orig_nbformat": 4,
    "vscode": {
      "interpreter": {
        "hash": "24d8ca9d91e8534966449e12a5009315d57fbeaa625782d1369f7e4f82c2f391"
      }
    },
    "colab": {
      "provenance": []
    }
  },
  "nbformat": 4,
  "nbformat_minor": 0
}